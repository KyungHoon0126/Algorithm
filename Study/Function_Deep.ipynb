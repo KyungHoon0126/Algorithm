{
 "cells": [
  {
   "cell_type": "markdown",
   "metadata": {},
   "source": [
    "# 2019 / 12 / 21 / 김경훈"
   ]
  },
  {
   "cell_type": "markdown",
   "metadata": {},
   "source": [
    "## 함수의 인수의 갯수가 고정되지 않은(가변적) 인수의 처리 방법"
   ]
  },
  {
   "cell_type": "markdown",
   "metadata": {},
   "source": [
    "### (1) *변수 : tuple 형식"
   ]
  },
  {
   "cell_type": "code",
   "execution_count": 12,
   "metadata": {},
   "outputs": [
    {
     "name": "stdout",
     "output_type": "stream",
     "text": [
      "<class 'tuple'>\n",
      "30\n",
      "<class 'tuple'>\n",
      "60\n",
      "<class 'tuple'>\n",
      "100\n",
      "<class 'tuple'>\n",
      "550\n"
     ]
    }
   ],
   "source": [
    "def add_many(a, b, *args):\n",
    "    total = a + b # total은 a, b가 누락되지 않도록 미리 더한다.\n",
    "    print(type(args)) # <class : 'tuple'>\n",
    "    \n",
    "    for k in args: # args가 tuple이기 때문에 for 문을 돌면서 더한다.\n",
    "        total = total + k\n",
    "    return total\n",
    "\n",
    "\n",
    "print(add_many(10, 20))\n",
    "print(add_many(10, 20, 30))\n",
    "print(add_many(10, 20, 30, 40))\n",
    "print(add_many(10, 20, 30, 40, 50, 60, 70, 80, 90, 100))"
   ]
  },
  {
   "cell_type": "code",
   "execution_count": null,
   "metadata": {},
   "outputs": [],
   "source": [
    "-------------------------------------------------------------------------------------------------------------------------"
   ]
  },
  {
   "cell_type": "markdown",
   "metadata": {},
   "source": [
    "## 키워드 인수"
   ]
  },
  {
   "cell_type": "markdown",
   "metadata": {},
   "source": [
    "### (2) **변수 : dict 형식"
   ]
  },
  {
   "cell_type": "code",
   "execution_count": 11,
   "metadata": {},
   "outputs": [
    {
     "name": "stdout",
     "output_type": "stream",
     "text": [
      "10 20\n",
      "<class 'dict'> {'depth': 5, 'dimension': 7}\n"
     ]
    }
   ],
   "source": [
    "def func(width, height, **kw):\n",
    "    print(width, height)\n",
    "    print(type(kw), kw) # <class 'dict'> {'depth': 5, 'dimension': 7}\n",
    "    \n",
    "func(width = 10, height = 20, depth = 5, dimension = 7)"
   ]
  },
  {
   "cell_type": "code",
   "execution_count": null,
   "metadata": {},
   "outputs": [],
   "source": [
    "-------------------------------------------------------------------------------------------------------------------------"
   ]
  },
  {
   "cell_type": "markdown",
   "metadata": {},
   "source": [
    "## 함수사용시 변수의 유효 범위 규칙(Scope Rule)\n",
    "- LEGB 규칙 : Local > Enclosing Function Local > Global > Built-in"
   ]
  },
  {
   "cell_type": "code",
   "execution_count": 15,
   "metadata": {},
   "outputs": [
    {
     "name": "stdout",
     "output_type": "stream",
     "text": [
      "foo :  20\n",
      "bar :  30 20 11\n"
     ]
    }
   ],
   "source": [
    "x = 10 # G(Global, 전역 변수) \n",
    "y = 11 # G(Global, 전역 변수)\n",
    "\n",
    "def foo():\n",
    "    x = 20 # L(Local, 지역 변수)\n",
    "    foo_list = [1, 2] # L(Local, 지역 변수)\n",
    "    print('foo : ', x) # foo : 20\n",
    "    def bar(): # 함수 안의 함수\n",
    "        a = 30 # L(Local, 지역 변수)\n",
    "        print('bar : ', a, x, y) # bar : 30 20 11    bar()에서의 a : L, bar()에서의 x : E(Enclosing Function Local)\n",
    "    bar()\n",
    "foo()\n",
    "\n",
    "        "
   ]
  },
  {
   "cell_type": "code",
   "execution_count": null,
   "metadata": {},
   "outputs": [],
   "source": [
    "-------------------------------------------------------------------------------------------------------------------------"
   ]
  },
  {
   "cell_type": "markdown",
   "metadata": {},
   "source": [
    "## 일급함수(First Class Function)"
   ]
  },
  {
   "cell_type": "markdown",
   "metadata": {},
   "source": [
    "### (1) 함수 객체를 다른 함수의 인수로 전달가능\n",
    "### (2) 함수 객체를 반환값으로 전달 가능\n",
    "### (3) 함수 객체를 다른 자료구조(자료형)에 저장해서 사용가능"
   ]
  },
  {
   "cell_type": "code",
   "execution_count": 23,
   "metadata": {},
   "outputs": [
    {
     "name": "stdout",
     "output_type": "stream",
     "text": [
      "func_two is called!\n",
      "add_two is called\n",
      "30\n"
     ]
    }
   ],
   "source": [
    "# (1) 함수 객체를 다른 함수의 인수로 전달한 경우\n",
    "\n",
    "def add_two(a, b):\n",
    "    print('add_two is called')\n",
    "    return a + b\n",
    "\n",
    "def func_two(func, a, b):\n",
    "    print('func_two is called!')\n",
    "    result = func(a, b)\n",
    "    return result\n",
    "\n",
    "result = func_two(add_two, 10, 20)\n",
    "print(result)"
   ]
  },
  {
   "cell_type": "code",
   "execution_count": 25,
   "metadata": {},
   "outputs": [
    {
     "name": "stdout",
     "output_type": "stream",
     "text": [
      "foo2 is called!!\n",
      "<class 'function'>\n",
      "bar2 is called!!\n"
     ]
    }
   ],
   "source": [
    "# (2) 함수 객체를 반환값으로 전달 가능\n",
    "\n",
    "def foo2():\n",
    "    print('foo2 is called!!')\n",
    "    def bar2():\n",
    "        print('bar2 is called!!')\n",
    "    return bar2 # 함수 객체를 반환\n",
    "\n",
    "result = foo2()\n",
    "print(type(result)) # <class : 'function'>\n",
    "\n",
    "result() # bar2 is called!! bar2() 함수 호출"
   ]
  },
  {
   "cell_type": "code",
   "execution_count": 27,
   "metadata": {},
   "outputs": [
    {
     "name": "stdout",
     "output_type": "stream",
     "text": [
      "add called\n",
      "60\n",
      "-40\n"
     ]
    }
   ],
   "source": [
    "# (3) 함수 객체를 다른 자료구조(자료형)에 저장해서 사용가능\n",
    "\n",
    "def add(a,b):\n",
    "    c = a + b\n",
    "    print('add called')\n",
    "    return c\n",
    "\n",
    "def subtract(a,b):\n",
    "    c = a - b\n",
    "    return c\n",
    "\n",
    "def multiply(a,b):\n",
    "    c = a * b\n",
    "    return c\n",
    "\n",
    "def divide(a,b):\n",
    "    c = a / b\n",
    "    return c\n",
    "\n",
    "func_list = [add, subtract, multiply, divide]\n",
    "result = func_list[0](10,50) # add(10, 50)\n",
    "print(result)\n",
    "\n",
    "result = func_list[1](10, 50) # subtract(10, 50)\n",
    "print(result)"
   ]
  },
  {
   "cell_type": "code",
   "execution_count": null,
   "metadata": {},
   "outputs": [],
   "source": [
    "-------------------------------------------------------------------------------------------------------------------------"
   ]
  },
  {
   "cell_type": "markdown",
   "metadata": {},
   "source": [
    "## 람다함수(lambda)\n",
    "- 함수명 = lambda <인수1>,<인수 2>··· <반환할 식>"
   ]
  },
  {
   "cell_type": "code",
   "execution_count": 36,
   "metadata": {},
   "outputs": [
    {
     "name": "stdout",
     "output_type": "stream",
     "text": [
      "80\n"
     ]
    }
   ],
   "source": [
    "add_new = lambda a, b : a + b\n",
    "print(add_new(30, 50))"
   ]
  },
  {
   "cell_type": "code",
   "execution_count": 39,
   "metadata": {},
   "outputs": [
    {
     "name": "stdout",
     "output_type": "stream",
     "text": [
      "[2, 5, 10, 17]\n",
      "[2, 5, 10, 17]\n",
      "[2, 5, 10, 17]\n",
      "[2, 5, 10, 17]\n",
      "[3, 13, 37, 81]\n"
     ]
    }
   ],
   "source": [
    "def f(x):\n",
    "    return x * x + 1\n",
    "\n",
    "def g(func):\n",
    "    return [func(x) for x in range(1, 5)]\n",
    "\n",
    "\n",
    "print([f(x) for x in range(1, 5)]) # 같다.\n",
    "print([f(1), f(2), f(3), f(4)]) # 같다.\n",
    "print(g(f)) # 같다.\n",
    "\n",
    "print(g(lambda x : x * x + 1)) # 같다, 람다함수 사용\n",
    "\n",
    "print(g(lambda x : x ** 3 + x  * x + 1)) # 람다함수 사용"
   ]
  }
 ],
 "metadata": {
  "kernelspec": {
   "display_name": "Python 3",
   "language": "python",
   "name": "python3"
  },
  "language_info": {
   "codemirror_mode": {
    "name": "ipython",
    "version": 3
   },
   "file_extension": ".py",
   "mimetype": "text/x-python",
   "name": "python",
   "nbconvert_exporter": "python",
   "pygments_lexer": "ipython3",
   "version": "3.7.4"
  }
 },
 "nbformat": 4,
 "nbformat_minor": 2
}
