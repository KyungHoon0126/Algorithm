{
 "cells": [
  {
   "cell_type": "markdown",
   "metadata": {},
   "source": [
    "# 2019 / 12 / 20 / 김경훈 - 2일차 과제"
   ]
  },
  {
   "cell_type": "markdown",
   "metadata": {},
   "source": [
    "## [제어문 실습 과제]\n",
    "\n",
    "## 1. -999가 입력 될 때 까지 점수를 입력 받은 후\n",
    "- 양수 / 음수 개수와 양수일 때 짝수 / 홀수의 개수를 출력하는 프로그램. 양수 음수 홀수 짝수 출력, 음수일세 카운트 X"
   ]
  },
  {
   "cell_type": "code",
   "execution_count": 5,
   "metadata": {},
   "outputs": [
    {
     "name": "stdout",
     "output_type": "stream",
     "text": [
      "숫자를 입력해 주세요 : 5\n",
      "숫자를 입력해 주세요 : 10\n",
      "숫자를 입력해 주세요 : 48\n",
      "숫자를 입력해 주세요 : 57\n",
      "숫자를 입력해 주세요 : -9\n",
      "숫자를 입력해 주세요 : -8\n",
      "숫자를 입력해 주세요 : -7\n",
      "숫자를 입력해 주세요 : -5\n",
      "숫자를 입력해 주세요 : -6\n",
      "숫자를 입력해 주세요 : -999\n",
      "짝수의 개수 : 2, 홀수의 개수 : 2\n",
      "양수의 개수 : 4, 음수의 개수 : 5\n"
     ]
    }
   ],
   "source": [
    "# 2번\n",
    "\n",
    "odd = 0; # 짝수\n",
    "opt = 0; # 홀수\n",
    "\n",
    "plus_num = 0; # 양수\n",
    "minus_num = 0; # 음수\n",
    "\n",
    "while True:\n",
    "    num = int(input('숫자를 입력해 주세요 : '))\n",
    "    if num == -999: \n",
    "        break\n",
    "    elif num > 0: \n",
    "        plus_num = plus_num + 1\n",
    "        if num % 2 == 0:\n",
    "            odd = odd + 1\n",
    "        else: \n",
    "            opt = opt + 1\n",
    "    elif num < 0 or num % 2 != 0: \n",
    "        minus_num = minus_num + 1\n",
    "        \n",
    "print('짝수의 개수 : {0}, 홀수의 개수 : {1}'.format(odd, opt))\n",
    "print('양수의 개수 : {0}, 음수의 개수 : {1}'.format(plus_num, minus_num))"
   ]
  },
  {
   "cell_type": "code",
   "execution_count": null,
   "metadata": {},
   "outputs": [],
   "source": [
    "-------------------------------------------------------------------------------------------------------------------------"
   ]
  },
  {
   "cell_type": "markdown",
   "metadata": {},
   "source": [
    "## [제어문 실습 과제]\n",
    "\n",
    "## 2. 연산자 기호를 사전(dict)에 넣고 두 개의 정수를 입력 받아서 사칙 연산하는 계산기 프로그램\n",
    "- 계산방식은 1이면 '+', 2이면 '-', 3이면 '*', 4이면 '/', eval()함수를 사용) "
   ]
  },
  {
   "cell_type": "code",
   "execution_count": 18,
   "metadata": {},
   "outputs": [
    {
     "name": "stdout",
     "output_type": "stream",
     "text": [
      "첫 번째 숫자를 입력해 주세요 : 15\n",
      "두 번째 숫자를 입력해 주세요 : 3\n",
      "1. +, 2. -, 3. *, 4. /\n",
      "연산할 기호의 번호를 입력해 주세요 : 4\n",
      "나눗셈 결과는 5.0 입니다.\n"
     ]
    }
   ],
   "source": [
    "operator = {\n",
    "                1 : '+',\n",
    "                2 : '-',\n",
    "                3 : '*',\n",
    "                4 : '/'\n",
    "           }\n",
    "\n",
    "num_one = input('첫 번째 숫자를 입력해 주세요 : ')\n",
    "num_two = input('두 번째 숫자를 입력해 주세요 : ')\n",
    "\n",
    "print('1. {0}, 2. {1}, 3. {2}, 4. {3}'.format(operator[1], operator[2], operator[3], operator[4]))\n",
    "\n",
    "input_operator = input('연산할 기호의 번호를 입력해 주세요 : ')\n",
    "\n",
    "if int(input_operator) == 1:\n",
    "    print('덧셈 결과는 {0} 입니다.'.format(eval(num_one + '+' + num_two)))\n",
    "\n",
    "if int(input_operator) == 2:\n",
    "    print('뺄셈 결과는 {0} 입니다.'.format(eval(num_one + '-' + num_two)))\n",
    "    \n",
    "if int(input_operator) == 3:\n",
    "    print('곱셈 결과는 {0} 입니다.'.format(eval(num_one + '*' + num_two)))\n",
    "    \n",
    "if int(input_operator) == 4:\n",
    "    print('나눗셈 결과는 {0} 입니다.'.format(eval(num_one + '/' + num_two)))"
   ]
  },
  {
   "cell_type": "code",
   "execution_count": null,
   "metadata": {},
   "outputs": [],
   "source": [
    "-------------------------------------------------------------------------------------------------------------------------"
   ]
  }
 ],
 "metadata": {
  "kernelspec": {
   "display_name": "Python 3",
   "language": "python",
   "name": "python3"
  },
  "language_info": {
   "codemirror_mode": {
    "name": "ipython",
    "version": 3
   },
   "file_extension": ".py",
   "mimetype": "text/x-python",
   "name": "python",
   "nbconvert_exporter": "python",
   "pygments_lexer": "ipython3",
   "version": "3.7.4"
  }
 },
 "nbformat": 4,
 "nbformat_minor": 2
}
