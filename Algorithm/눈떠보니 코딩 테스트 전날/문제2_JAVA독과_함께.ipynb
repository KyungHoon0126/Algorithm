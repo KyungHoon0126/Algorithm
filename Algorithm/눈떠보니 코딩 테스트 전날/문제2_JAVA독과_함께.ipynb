{
  "nbformat": 4,
  "nbformat_minor": 0,
  "metadata": {
    "colab": {
      "name": "문제2 - JAVA독과 함께.ipynb",
      "provenance": [],
      "collapsed_sections": []
    },
    "kernelspec": {
      "name": "python3",
      "display_name": "Python 3"
    }
  },
  "cells": [
    {
      "cell_type": "code",
      "metadata": {
        "id": "qniezzx8PsPR"
      },
      "source": [
        "돌의내구도 = [1, 2, 1, 4]\r\n",
        "독 = [{\r\n",
        "    \"이름\" : \"루비독\",\r\n",
        "    \"나이\" : \"95년생\",\r\n",
        "    \"점프력\" : \"3\",\r\n",
        "    \"몸무게\" : \"4\",\r\n",
        "    },{\r\n",
        "    \"이름\" : \"피치독\",\r\n",
        "    \"나이\" : \"95년생\",\r\n",
        "    \"점프력\" : \"3\",\r\n",
        "    \"몸무게\" : \"3\",\r\n",
        "    },{\r\n",
        "    \"이름\" : \"씨-독\",\r\n",
        "    \"나이\" : \"72년생\",\r\n",
        "    \"점프력\" : \"2\",\r\n",
        "    \"몸무게\" : \"1\",\r\n",
        "    },{\r\n",
        "    \"이름\" : \"코볼독\",\r\n",
        "    \"나이\" : \"59년생\",\r\n",
        "    \"점프력\" : \"1\",\r\n",
        "    \"몸무게\" : \"1\",\r\n",
        "    }]"
      ],
      "execution_count": 9,
      "outputs": []
    },
    {
      "cell_type": "code",
      "metadata": {
        "colab": {
          "base_uri": "https://localhost:8080/"
        },
        "id": "0M1m9wvaQmiQ",
        "outputId": "b1ecb6c3-022c-446d-83c4-3c2787f31a94"
      },
      "source": [
        "def 징검다리를건너라(돌의내구도, 독):\r\n",
        "  answer = [독[i]['이름'] for i in range(len(독))]\r\n",
        "  return answer\r\n",
        "\r\n",
        "print(징검다리를건너라(돌의내구도, 독))"
      ],
      "execution_count": 2,
      "outputs": [
        {
          "output_type": "stream",
          "text": [
            "['루비독', '피치독', '씨-독', '코볼독']\n"
          ],
          "name": "stdout"
        }
      ]
    },
    {
      "cell_type": "code",
      "metadata": {
        "colab": {
          "base_uri": "https://localhost:8080/"
        },
        "id": "iX3r6AfLQ3n5",
        "outputId": "d1b92524-ae65-4279-9683-e8c58843a6c3"
      },
      "source": [
        "def 징검다리를건너라(돌의내구도, 독):\r\n",
        "  answer = [ i['이름'] for i in 독]\r\n",
        "  return answer\r\n",
        "\r\n",
        "print(징검다리를건너라(돌의내구도, 독))"
      ],
      "execution_count": 4,
      "outputs": [
        {
          "output_type": "stream",
          "text": [
            "['루비독', '피치독', '씨-독', '코볼독']\n"
          ],
          "name": "stdout"
        }
      ]
    },
    {
      "cell_type": "code",
      "metadata": {
        "colab": {
          "base_uri": "https://localhost:8080/"
        },
        "id": "0Zm9Vxz5RKjS",
        "outputId": "bbfe101c-be86-48c9-872b-750c971fb159"
      },
      "source": [
        "def 징검다리를건너라(돌의내구도, 독):\r\n",
        "  answer = [ i['이름'] for i in 독]\r\n",
        "  for i in 독:\r\n",
        "    독의위치 = 0\r\n",
        "    # 독의 위치가 다리를 벗어난다면\r\n",
        "    while 독의위치 < len(돌의내구도) - 1:\r\n",
        "      독의위치 += int(i['점프력'])\r\n",
        "      돌의내구도[독의위치 - 1] -= int(i['몸무게'])\r\n",
        "      if 돌의내구도[독의위치-1] < 0:\r\n",
        "        answer[answer.index(i['이름'])] = 'fail'\r\n",
        "        break # while문 종료\r\n",
        "  return [i for i in answer if i != 'fail']\r\n",
        "\r\n",
        "print(징검다리를건너라(돌의내구도.copy(), 독.copy()))"
      ],
      "execution_count": 11,
      "outputs": [
        {
          "output_type": "stream",
          "text": [
            "['씨-독']\n"
          ],
          "name": "stdout"
        }
      ]
    },
    {
      "cell_type": "code",
      "metadata": {
        "colab": {
          "base_uri": "https://localhost:8080/"
        },
        "id": "kvjqM3H6SPjX",
        "outputId": "e8b751db-2607-4b75-ff6e-479740b74537"
      },
      "source": [
        "ll = [1, 2, 3, 4, 5]\r\n",
        "\r\n",
        "# list는 주소값 복사이기 때문에 값이 바뀜.\r\n",
        "def change(l):\r\n",
        "  l[0] = 1000\r\n",
        "change(ll)\r\n",
        "ll"
      ],
      "execution_count": 16,
      "outputs": [
        {
          "output_type": "execute_result",
          "data": {
            "text/plain": [
              "[1000, 2, 3, 4, 5]"
            ]
          },
          "metadata": {
            "tags": []
          },
          "execution_count": 16
        }
      ]
    },
    {
      "cell_type": "code",
      "metadata": {
        "colab": {
          "base_uri": "https://localhost:8080/"
        },
        "id": "StlWW5V9TDA2",
        "outputId": "73de242c-643a-420b-d2a3-7515ab2d4fa9"
      },
      "source": [
        "xx = 100\r\n",
        "\r\n",
        "# 값을 복사한것이기 때문에 값이 안바뀜.\r\n",
        "def change(x):\r\n",
        "  x += 1000\r\n",
        "change(xx)\r\n",
        "xx"
      ],
      "execution_count": 15,
      "outputs": [
        {
          "output_type": "execute_result",
          "data": {
            "text/plain": [
              "100"
            ]
          },
          "metadata": {
            "tags": []
          },
          "execution_count": 15
        }
      ]
    },
    {
      "cell_type": "code",
      "metadata": {
        "colab": {
          "base_uri": "https://localhost:8080/"
        },
        "id": "TZPCEpaeTJfV",
        "outputId": "37a62fda-60cd-4883-b272-402a80cb5a04"
      },
      "source": [
        "# remove O(N)\r\n",
        "# del 0(1)\r\n",
        "\r\n",
        "돌의내구도 = [5, 3, 4, 1, 3, 8, 3]\r\n",
        "\r\n",
        "def 징검다리를건너라(돌의내구도, 독):\r\n",
        "  answer = [ i['이름'] for i in 독]\r\n",
        "  for i in 독:\r\n",
        "    독의위치 = 0 \r\n",
        "    # 독의 위치가 다리를 벗어난다면\r\n",
        "    while 독의위치 < len(돌의내구도) - 1: # 돌 내구도 총합 : 이동할 수 있는 거리\r\n",
        "      독의위치 += int(i['점프력'])\r\n",
        "      돌의내구도[독의위치 - 1] -= int(i['몸무게'])\r\n",
        "      if 돌의내구도[독의위치-1] < 0:\r\n",
        "        del answer[answer.index(i['이름'])]\r\n",
        "        # answer[answer.index(i['이름'])] = 'fail'\r\n",
        "        break # while문 종료\r\n",
        "  return [i for i in answer if i != 'fail']\r\n",
        "\r\n",
        "print(징검다리를건너라(돌의내구도.copy(), 독.copy()))"
      ],
      "execution_count": 19,
      "outputs": [
        {
          "output_type": "stream",
          "text": [
            "['루비독', '씨-독']\n"
          ],
          "name": "stdout"
        }
      ]
    },
    {
      "cell_type": "code",
      "metadata": {
        "colab": {
          "base_uri": "https://localhost:8080/",
          "height": 35
        },
        "id": "ZbEZ_Dk5Topt",
        "outputId": "7ede1705-63cc-4fbb-ac5e-ab354e147f63"
      },
      "source": [
        "import json\r\n",
        "\r\n",
        "JSON독 = json.dumps(독, ensure_ascii=False)\r\n",
        "\r\n",
        "# JSON독\r\n",
        "\r\n",
        "# JSON독[0] # [\r\n",
        "\r\n",
        "# JSON독[:10] # [{\"이름\": \"루"
      ],
      "execution_count": 28,
      "outputs": [
        {
          "output_type": "execute_result",
          "data": {
            "application/vnd.google.colaboratory.intrinsic+json": {
              "type": "string"
            },
            "text/plain": [
              "'[{\"이름\": \"루'"
            ]
          },
          "metadata": {
            "tags": []
          },
          "execution_count": 28
        }
      ]
    },
    {
      "cell_type": "code",
      "metadata": {
        "colab": {
          "base_uri": "https://localhost:8080/"
        },
        "id": "DdzSAX1TUJxy",
        "outputId": "6f3655b9-2835-464a-c365-df8b1fecb014"
      },
      "source": [
        "JSON독 = json.loads(JSON독) # list\r\n",
        "JSON독"
      ],
      "execution_count": 29,
      "outputs": [
        {
          "output_type": "execute_result",
          "data": {
            "text/plain": [
              "[{'나이': '95년생', '몸무게': '4', '이름': '루비독', '점프력': '3'},\n",
              " {'나이': '95년생', '몸무게': '3', '이름': '피치독', '점프력': '3'},\n",
              " {'나이': '72년생', '몸무게': '1', '이름': '씨-독', '점프력': '2'},\n",
              " {'나이': '59년생', '몸무게': '1', '이름': '코볼독', '점프력': '1'}]"
            ]
          },
          "metadata": {
            "tags": []
          },
          "execution_count": 29
        }
      ]
    },
    {
      "cell_type": "code",
      "metadata": {
        "colab": {
          "base_uri": "https://localhost:8080/"
        },
        "id": "Xgip2VjmUg_G",
        "outputId": "4b248b5c-41d8-464a-de80-a6603c853357"
      },
      "source": [
        "JSON독[0]"
      ],
      "execution_count": 32,
      "outputs": [
        {
          "output_type": "execute_result",
          "data": {
            "text/plain": [
              "{'나이': '95년생', '몸무게': '4', '이름': '루비독', '점프력': '3'}"
            ]
          },
          "metadata": {
            "tags": []
          },
          "execution_count": 32
        }
      ]
    }
  ]
}