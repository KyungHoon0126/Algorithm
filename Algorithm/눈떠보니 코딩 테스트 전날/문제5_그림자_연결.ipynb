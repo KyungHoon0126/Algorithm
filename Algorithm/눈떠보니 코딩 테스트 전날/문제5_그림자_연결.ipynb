{
  "nbformat": 4,
  "nbformat_minor": 0,
  "metadata": {
    "colab": {
      "name": "문제5 - 그림자 연결.ipynb",
      "provenance": []
    },
    "kernelspec": {
      "name": "python3",
      "display_name": "Python 3"
    }
  },
  "cells": [
    {
      "cell_type": "code",
      "metadata": {
        "id": "N_uq8tcm8MTM"
      },
      "source": [
        "graph = {100: set([67, 66]),\r\n",
        "         67: set([100, 82, 63]),\r\n",
        "         66: set([100, 73, 69]),\r\n",
        "         82: set([67, 61, 79]),\r\n",
        "         63: set([67]),\r\n",
        "         73: set([66]),\r\n",
        "         69: set([66, 65, 81]),\r\n",
        "         61: set([82]),\r\n",
        "         79: set([82, 87, 77]),\r\n",
        "         65: set([69, 84, 99]),\r\n",
        "         81: set([69]),\r\n",
        "         87: set([79, 31, 78]),\r\n",
        "         77: set([79]),\r\n",
        "         84: set([65]),\r\n",
        "         99: set([65]),\r\n",
        "         31: set([87]),\r\n",
        "         78: set([87])}"
      ],
      "execution_count": null,
      "outputs": []
    },
    {
      "cell_type": "code",
      "metadata": {
        "colab": {
          "base_uri": "https://localhost:8080/"
        },
        "id": "iCuBBEGe8kCr",
        "outputId": "1e81b282-67d9-43c0-bdaf-da6e9b496b8c"
      },
      "source": [
        "min(graph[100])"
      ],
      "execution_count": null,
      "outputs": [
        {
          "output_type": "execute_result",
          "data": {
            "text/plain": [
              "66"
            ]
          },
          "metadata": {
            "tags": []
          },
          "execution_count": 4
        }
      ]
    },
    {
      "cell_type": "code",
      "metadata": {
        "colab": {
          "base_uri": "https://localhost:8080/"
        },
        "id": "mHPHn5678k8F",
        "outputId": "21be6b3f-7569-480a-fff4-72fa552e0cae"
      },
      "source": [
        "def dfs(graph, start):\r\n",
        "  visited = []\r\n",
        "  stack = [start]\r\n",
        "\r\n",
        "  while stack:\r\n",
        "    node = stack.pop()\r\n",
        "    if node not in visited:\r\n",
        "      visited.append(node)\r\n",
        "      # 차집합\r\n",
        "      difference_of_sets = graph[node] - set(visited) # graph에서 방문한 노드를 다 빼준다.\r\n",
        "      stack += difference_of_sets\r\n",
        "      print(f'visited : {visited}')\r\n",
        "      print(f'stack : {stack}')\r\n",
        "  return visited\r\n",
        "\r\n",
        "dfs(graph, 100)"
      ],
      "execution_count": null,
      "outputs": [
        {
          "output_type": "stream",
          "text": [
            "visited : [100]\n",
            "stack : [66, 67]\n",
            "visited : [100, 67]\n",
            "stack : [66, 82, 63]\n",
            "visited : [100, 67, 63]\n",
            "stack : [66, 82]\n",
            "visited : [100, 67, 63, 82]\n",
            "stack : [66, 61, 79]\n",
            "visited : [100, 67, 63, 82, 79]\n",
            "stack : [66, 61, 77, 87]\n",
            "visited : [100, 67, 63, 82, 79, 87]\n",
            "stack : [66, 61, 77, 78, 31]\n",
            "visited : [100, 67, 63, 82, 79, 87, 31]\n",
            "stack : [66, 61, 77, 78]\n",
            "visited : [100, 67, 63, 82, 79, 87, 31, 78]\n",
            "stack : [66, 61, 77]\n",
            "visited : [100, 67, 63, 82, 79, 87, 31, 78, 77]\n",
            "stack : [66, 61]\n",
            "visited : [100, 67, 63, 82, 79, 87, 31, 78, 77, 61]\n",
            "stack : [66]\n",
            "visited : [100, 67, 63, 82, 79, 87, 31, 78, 77, 61, 66]\n",
            "stack : [73, 69]\n",
            "visited : [100, 67, 63, 82, 79, 87, 31, 78, 77, 61, 66, 69]\n",
            "stack : [73, 65, 81]\n",
            "visited : [100, 67, 63, 82, 79, 87, 31, 78, 77, 61, 66, 69, 81]\n",
            "stack : [73, 65]\n",
            "visited : [100, 67, 63, 82, 79, 87, 31, 78, 77, 61, 66, 69, 81, 65]\n",
            "stack : [73, 99, 84]\n",
            "visited : [100, 67, 63, 82, 79, 87, 31, 78, 77, 61, 66, 69, 81, 65, 84]\n",
            "stack : [73, 99]\n",
            "visited : [100, 67, 63, 82, 79, 87, 31, 78, 77, 61, 66, 69, 81, 65, 84, 99]\n",
            "stack : [73]\n",
            "visited : [100, 67, 63, 82, 79, 87, 31, 78, 77, 61, 66, 69, 81, 65, 84, 99, 73]\n",
            "stack : []\n"
          ],
          "name": "stdout"
        },
        {
          "output_type": "execute_result",
          "data": {
            "text/plain": [
              "[100, 67, 63, 82, 79, 87, 31, 78, 77, 61, 66, 69, 81, 65, 84, 99, 73]"
            ]
          },
          "metadata": {
            "tags": []
          },
          "execution_count": 21
        }
      ]
    },
    {
      "cell_type": "code",
      "metadata": {
        "colab": {
          "base_uri": "https://localhost:8080/"
        },
        "id": "QV19UihPANGw",
        "outputId": "cd799e30-90ba-42a4-9aae-1669a29045bb"
      },
      "source": [
        "# 작은 값만 순회\r\n",
        "\r\n",
        "# 큰 값만 순회하려면 min이 아닌 max 이용\r\n",
        "\r\n",
        "def dfs(graph, start):\r\n",
        "  visited = []\r\n",
        "  stack = [start]\r\n",
        "\r\n",
        "  while stack:\r\n",
        "    node = stack.pop()\r\n",
        "    if node not in visited:\r\n",
        "      visited.append(node)\r\n",
        "      # 차집합\r\n",
        "      difference_of_sets = graph[node] - set(visited) # graph에서 방문한 노드를 다 빼준다.\r\n",
        "      if len(difference_of_sets) == 0:\r\n",
        "        visited += stack\r\n",
        "        break\r\n",
        "      stack.append(min(difference_of_sets))\r\n",
        "      print(f'visited : {visited}')\r\n",
        "      print(f'stack : {stack}')\r\n",
        "  return visited\r\n",
        "\r\n",
        "dfs(graph, 100)"
      ],
      "execution_count": null,
      "outputs": [
        {
          "output_type": "stream",
          "text": [
            "visited : [100]\n",
            "stack : [67]\n",
            "visited : [100, 67]\n",
            "stack : [82]\n",
            "visited : [100, 67, 82]\n",
            "stack : [79]\n",
            "visited : [100, 67, 82, 79]\n",
            "stack : [87]\n",
            "visited : [100, 67, 82, 79, 87]\n",
            "stack : [78]\n"
          ],
          "name": "stdout"
        },
        {
          "output_type": "execute_result",
          "data": {
            "text/plain": [
              "[100, 67, 82, 79, 87, 78]"
            ]
          },
          "metadata": {
            "tags": []
          },
          "execution_count": 29
        }
      ]
    },
    {
      "cell_type": "code",
      "metadata": {
        "colab": {
          "base_uri": "https://localhost:8080/",
          "height": 35
        },
        "id": "dntgCuJ3Ft29",
        "outputId": "ecc5772e-8382-459c-b512-fa171422431c"
      },
      "source": [
        "''.join([chr(i) for i in [66, 69, 65, 84]])"
      ],
      "execution_count": null,
      "outputs": [
        {
          "output_type": "execute_result",
          "data": {
            "application/vnd.google.colaboratory.intrinsic+json": {
              "type": "string"
            },
            "text/plain": [
              "'BEAT'"
            ]
          },
          "metadata": {
            "tags": []
          },
          "execution_count": 36
        }
      ]
    },
    {
      "cell_type": "code",
      "metadata": {
        "colab": {
          "base_uri": "https://localhost:8080/",
          "height": 35
        },
        "id": "cMJFVHj2F58n",
        "outputId": "707d22af-ffbf-4520-c970-5fd4d2712fde"
      },
      "source": [
        "''.join([chr(i) for i in [67, 82, 79, 87, 78]])"
      ],
      "execution_count": null,
      "outputs": [
        {
          "output_type": "execute_result",
          "data": {
            "application/vnd.google.colaboratory.intrinsic+json": {
              "type": "string"
            },
            "text/plain": [
              "'CROWN'"
            ]
          },
          "metadata": {
            "tags": []
          },
          "execution_count": 37
        }
      ]
    }
  ]
}