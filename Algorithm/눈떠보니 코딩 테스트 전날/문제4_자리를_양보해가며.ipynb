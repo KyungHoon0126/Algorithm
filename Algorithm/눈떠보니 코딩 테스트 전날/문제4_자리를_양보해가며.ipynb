{
  "nbformat": 4,
  "nbformat_minor": 0,
  "metadata": {
    "colab": {
      "name": "문제4 - 자리를 양보해가며.ipynb",
      "provenance": [],
      "collapsed_sections": []
    },
    "kernelspec": {
      "name": "python3",
      "display_name": "Python 3"
    }
  },
  "cells": [
    {
      "cell_type": "markdown",
      "metadata": {
        "id": "j-qlX0CWaqBb"
      },
      "source": [
        "```\r\n",
        "Ctrl + M M : 마크다운\r\n",
        "\r\n",
        "\r\n",
        "동물 = ['척추동물', '어류', '척추동물', '무척추동물', '파충류', '척추동물', '어류', '파충류']\r\n",
        "\r\n",
        "1회 : ['척추동물'] # False\r\n",
        "2회 : ['척추동물', '어류'] # False\r\n",
        "3회: ['어류', '척추동물'] 척추동물이 Hit되어서 뒤로간다고함. # Hit\r\n",
        "4회 : ['어류', '척추동물', '무척추동물'] # False\r\n",
        "5회 : ['어류', '척추동물', '무척추동물', '파충류'] # False\r\n",
        "6회 : ['무척추동물', '파충류', '척추동물'] # Hit\r\n",
        "7회 : ['파충류', '척추동물', '어류'] # False\r\n",
        "8회: ['척추동물', '어류', '파충류'] # Hit\r\n",
        "```"
      ]
    },
    {
      "cell_type": "code",
      "metadata": {
        "colab": {
          "base_uri": "https://localhost:8080/",
          "height": 35
        },
        "id": "LYfQPWphn_RM",
        "outputId": "3c335db6-9bf3-4849-8c11-3f04860451f9"
      },
      "source": [
        "동물 = ['척추동물', '어류', '척추동물', '무척추동물', '파충류', '척추동물', '어류', '파충류']\r\n",
        "\r\n",
        "def solution(동물, 자리):\r\n",
        "  의자 = [] * 자리\r\n",
        "  answer = 0\r\n",
        "\r\n",
        "  for i in 동물:\r\n",
        "    if len(의자) < 3:\r\n",
        "      # 자리가 비어있는데도 같은 종의 동물이 있는 경우.\r\n",
        "      if i in 의자:\r\n",
        "        # 앞에 있는 동물이 뒤로감.\r\n",
        "        히트된페이지 = 의자.pop(의자.index(i))\r\n",
        "        의자.append(히트된페이지)\r\n",
        "        answer += 1 # Hit이므로 1초 증가\r\n",
        "      else:\r\n",
        "        # 자리가 3미만인데 다른 종류의 동물이 있는 경우.\r\n",
        "        의자.append(i)\r\n",
        "        answer += 60 # False이므로 60초(1분) 증가\r\n",
        "    # 의자가 꽉 차 있다면\r\n",
        "    else:\r\n",
        "      if i in 의자:\r\n",
        "        히트된페이지 = 의자.pop(의자.index(i))\r\n",
        "        의자.append(히트된페이지)\r\n",
        "        answer += 1 \r\n",
        "      # 자리가 없는 경우 \r\n",
        "      else:\r\n",
        "        의자.pop(0)\r\n",
        "        의자.append(i)\r\n",
        "        answer += 60\r\n",
        "  return f'{answer//60}분 {answer%60}초'\r\n",
        "\r\n",
        "solution(동물, 3)"
      ],
      "execution_count": 3,
      "outputs": [
        {
          "output_type": "execute_result",
          "data": {
            "application/vnd.google.colaboratory.intrinsic+json": {
              "type": "string"
            },
            "text/plain": [
              "'5분 3초'"
            ]
          },
          "metadata": {
            "tags": []
          },
          "execution_count": 3
        }
      ]
    },
    {
      "cell_type": "code",
      "metadata": {
        "id": "N9B7HMGKn11b"
      },
      "source": [
        ""
      ],
      "execution_count": null,
      "outputs": []
    }
  ]
}