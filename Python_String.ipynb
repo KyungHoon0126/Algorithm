{
 "cells": [
  {
   "cell_type": "markdown",
   "metadata": {},
   "source": [
    "# 2019 / 12 / 19 / 김경훈"
   ]
  },
  {
   "cell_type": "markdown",
   "metadata": {},
   "source": [
    "## 문자열(string) : 불변형(immutable), 시퀀스형"
   ]
  },
  {
   "cell_type": "code",
   "execution_count": 2,
   "metadata": {},
   "outputs": [
    {
     "name": "stdout",
     "output_type": "stream",
     "text": [
      "Hello Python\n",
      "<class 'str'>\n",
      "Good Bye\n",
      "\n",
      "aaa\n",
      "\n"
     ]
    }
   ],
   "source": [
    "str1 = 'Hello Python'\n",
    "print(str1)\n",
    "print(type(str1))\n",
    "\n",
    "str1 = 'Good Bye' # 내용이 바뀌는 것이 아니라, 새로운 객체가 생성되는 것이다.\n",
    "print(str1)\n",
    "\n",
    "\n",
    "# 문법적으로는 string 이다.\n",
    "'''\n",
    "aaa\n",
    "'''\n",
    "\n",
    "str2 = '''\n",
    "aaa\n",
    "'''\n",
    "print(str2)"
   ]
  },
  {
   "cell_type": "markdown",
   "metadata": {},
   "source": [
    "## 문자열의 인덱싱(indexing)과 슬라이싱(slicing) \n",
    "### → 인덱싱 : 문자를 꺼내오는 것, 슬라이싱 : 문자를 잘라오는 것"
   ]
  },
  {
   "cell_type": "code",
   "execution_count": 4,
   "metadata": {},
   "outputs": [],
   "source": [
    "# 인덱싱(indexing)"
   ]
  },
  {
   "cell_type": "code",
   "execution_count": 5,
   "metadata": {},
   "outputs": [],
   "source": [
    "a = 'Life is too short. you need Python'"
   ]
  },
  {
   "cell_type": "code",
   "execution_count": 6,
   "metadata": {},
   "outputs": [
    {
     "name": "stdout",
     "output_type": "stream",
     "text": [
      "L\n",
      "L i f e\n",
      "t n o\n",
      "L i f i L\n"
     ]
    }
   ],
   "source": [
    "print(a[0]) # a 문자열의 0번지 문자가 출력된다.\n",
    "\n",
    "print(a[0], a[1], a[2], a[3])\n",
    "print(a[8], a[-1], a[-2]) # [-1] : 문자열의 제일 끝 값, [-2] : 문자열의 제일 끝 값의 앞. → 문자열의 길이에 상관없이 끝 값은 -1\n",
    "\n",
    "print(a[0], a[1], a[2], a[True], a[False]) # True : 1, False : 0 → Ture, False 값을 배열의 인자로 넣어 접근할 수도 있다."
   ]
  },
  {
   "cell_type": "code",
   "execution_count": 7,
   "metadata": {},
   "outputs": [
    {
     "ename": "TypeError",
     "evalue": "'str' object does not support item assignment",
     "output_type": "error",
     "traceback": [
      "\u001b[1;31m---------------------------------------------------------------------------\u001b[0m",
      "\u001b[1;31mTypeError\u001b[0m                                 Traceback (most recent call last)",
      "\u001b[1;32m<ipython-input-7-c0873e22d0ef>\u001b[0m in \u001b[0;36m<module>\u001b[1;34m\u001b[0m\n\u001b[1;32m----> 1\u001b[1;33m \u001b[0ma\u001b[0m\u001b[1;33m[\u001b[0m\u001b[1;36m0\u001b[0m\u001b[1;33m]\u001b[0m \u001b[1;33m=\u001b[0m \u001b[1;34m'R'\u001b[0m \u001b[1;31m# 불변형이기 때문에 요소의 값을 수정할 수 없다. → TypeError\u001b[0m\u001b[1;33m\u001b[0m\u001b[1;33m\u001b[0m\u001b[0m\n\u001b[0m",
      "\u001b[1;31mTypeError\u001b[0m: 'str' object does not support item assignment"
     ]
    }
   ],
   "source": [
    "a[0] = 'R' # 불변형이기 때문에 요소의 값을 수정할 수 없다. → TypeError"
   ]
  },
  {
   "cell_type": "code",
   "execution_count": 8,
   "metadata": {},
   "outputs": [
    {
     "name": "stdout",
     "output_type": "stream",
     "text": [
      "Lf \n"
     ]
    }
   ],
   "source": [
    "print(a[0] + a[2] + a[4]) # + 연산자 : 문자열인 경우, 문자를 합치는 역할을 한다."
   ]
  },
  {
   "cell_type": "code",
   "execution_count": 9,
   "metadata": {},
   "outputs": [
    {
     "name": "stdout",
     "output_type": "stream",
     "text": [
      "Lif\n",
      "Lf st\n",
      "Life is to\n",
      "Life is too short. you need Python\n",
      "Life is too short. you need Pytho\n",
      "Lf stosot o edPto\n",
      "nohtyP deen uoy .trohs oot si efiL\n"
     ]
    }
   ],
   "source": [
    "print(a[0:3]) # a[0]부터 a[3 - 1]까지 꺼내온다. 즉 마지막 문자열을 제외한 문자를 가져온다.\n",
    "\n",
    "print(a[0:10:2]) # 0번지를 출력한 다음 +2를 증가시킨 문자열을 가져온다. a[0] ~ a[10]까지 인덱스를 +2씩 증가한 문자의 값. → a[0], a[2], a[4], a[6], a[8]\n",
    "\n",
    "print(a[:10]) # 앞을 생략할 경우 처음부터 시작, 끝도 생략하면 끝까지.\n",
    "\n",
    "print(a[:]) # 전체 출력\n",
    "\n",
    "print(a[:-1]) # 마지막 직전까지 출력, 즉 마지막은 제외한 문자열을 출력한다.\n",
    "\n",
    "\n",
    "print(a[::2]) # 스텝 : 간격을 2씩\n",
    "\n",
    "print(a[::-1]) # 순서를 거꾸로 바꾼다. → Reverse : 슬라이싱을 거꾸로 진행해서 문자열이 뒤집힌다."
   ]
  },
  {
   "cell_type": "markdown",
   "metadata": {},
   "source": [
    "## 문자열 연산"
   ]
  },
  {
   "cell_type": "code",
   "execution_count": 11,
   "metadata": {},
   "outputs": [
    {
     "name": "stdout",
     "output_type": "stream",
     "text": [
      "firstsecond\n",
      "firstsecondfirstsecondfirstsecondfirstsecondfirstsecondfirstsecondfirstsecondfirstsecondfirstsecondfirstsecond\n"
     ]
    }
   ],
   "source": [
    "s1 = 'first'\n",
    "s2 = 'second'\n",
    "s3 = s1 + s2 # '-' 연산은 불가\n",
    "print(s3)\n",
    "print(s3 * 10) # 문자열을 10번 곱하여라 → 즉, 자신의 문자를 열번 더한것과 같다."
   ]
  },
  {
   "cell_type": "code",
   "execution_count": null,
   "metadata": {},
   "outputs": [],
   "source": [
    "-------------------------------------------------------------------------------------------------------------------------"
   ]
  },
  {
   "cell_type": "code",
   "execution_count": 12,
   "metadata": {},
   "outputs": [
    {
     "name": "stdout",
     "output_type": "stream",
     "text": [
      "11\n"
     ]
    }
   ],
   "source": [
    "print(len(s3)) # 데이터의 크기를 알 수 있다."
   ]
  },
  {
   "cell_type": "markdown",
   "metadata": {},
   "source": [
    "### upper(), lower(), title()"
   ]
  },
  {
   "cell_type": "code",
   "execution_count": 14,
   "metadata": {},
   "outputs": [
    {
     "name": "stdout",
     "output_type": "stream",
     "text": [
      "<class 'str'>\n",
      "I LIKE PROGRAMMING. I LIKE SWIMMING\n",
      "i like programming. i like swimming\n",
      "i like programming. i like swimming\n",
      "I Like Programming. I Like Swimming\n"
     ]
    }
   ],
   "source": [
    "a = 'i like programming. i like swimming'\n",
    "print(type(a)) # <class 'str'>\n",
    "\n",
    "b = a.upper() # 대문자로 변환\n",
    "print(b)\n",
    "print(a) # 원본은 그대로 유지, a의 값이 바뀌는 것이 아니라, 새로운 객체가 생성되는 것이다. → string은 불변형이기 때문!\n",
    "\n",
    "c = b.lower() # 소문자로 변환\n",
    "print(c)\n",
    "d = c.title() # title() : 단어의 첫글자만 대문자로 변환\n",
    "print(d)"
   ]
  },
  {
   "cell_type": "markdown",
   "metadata": {},
   "source": [
    "## count(), find(), rfind()"
   ]
  },
  {
   "cell_type": "code",
   "execution_count": 16,
   "metadata": {},
   "outputs": [
    {
     "name": "stdout",
     "output_type": "stream",
     "text": [
      "2\n",
      "2\n",
      "-1\n",
      "22\n",
      "22\n"
     ]
    }
   ],
   "source": [
    "a = 'i like programming. i like swimming'\n",
    "\n",
    "num = a.count('like') # 문자의 사용횟수\n",
    "print(num) # 2\n",
    "\n",
    "num = a.find('like') # 문자의 위치 인덱스값을 반환\n",
    "print(num) #2\n",
    "\n",
    "num = a.find('hello') # 없으면 -1을 반환\n",
    "print(num) # -1\n",
    "\n",
    "num = a.find('like', 3) # 검색 시작위치를 3으로 지정\n",
    "print(num) # 22\n",
    "\n",
    "num = a.rfind('like') # 역순 검색, 뒤에서 부터 검색\n",
    "print(num) #22"
   ]
  },
  {
   "cell_type": "markdown",
   "metadata": {},
   "source": [
    "## index(), startswith()"
   ]
  },
  {
   "cell_type": "code",
   "execution_count": 18,
   "metadata": {},
   "outputs": [
    {
     "name": "stdout",
     "output_type": "stream",
     "text": [
      "2\n",
      "True\n"
     ]
    }
   ],
   "source": [
    "a = 'i like programming. i like swimming'\n",
    "\n",
    "num = a.index('like') # 위치를 반환\n",
    "print(num) # 2\n",
    "\n",
    "# num = aindex('hello') # 위치를 반환 ValueError! → 없는 문자열의 위치를 검색하기 때문에 오류가 발생한다.\n",
    "\n",
    "b = a.startswith('i like') # 'i like'로 시작하는 문자열인가?\n",
    "print(b) # True"
   ]
  },
  {
   "cell_type": "markdown",
   "metadata": {},
   "source": [
    "## strip(), lstrip(), rstrip()"
   ]
  },
  {
   "cell_type": "code",
   "execution_count": 20,
   "metadata": {},
   "outputs": [
    {
     "name": "stdout",
     "output_type": "stream",
     "text": [
      " spam and ham \n",
      "spam and ham\n",
      "spam and ham \n",
      " spam and ham\n"
     ]
    }
   ],
   "source": [
    "a = ' spam and ham '\n",
    "print(a)\n",
    "s = a.strip() # strip() : 인자로 아무것도 주지않으면 좌우 공백 제거\n",
    "print(s)\n",
    "\n",
    "s = a.lstrip() # 왼쪽 공백 제거\n",
    "print(s)\n",
    "\n",
    "s = a.rstrip() # 오른쪽 공백 제거\n",
    "print(s)"
   ]
  },
  {
   "cell_type": "markdown",
   "metadata": {},
   "source": [
    "## split()"
   ]
  },
  {
   "cell_type": "code",
   "execution_count": 21,
   "metadata": {},
   "outputs": [
    {
     "name": "stdout",
     "output_type": "stream",
     "text": [
      "['spam', 'and', 'ham']\n",
      "[' spam ', ' ham ']\n"
     ]
    }
   ],
   "source": [
    "a = ' spam and ham '\n",
    "\n",
    "s1 = a.split() # 공백으로 분리하고 리스트로 반환\n",
    "print(s1) # ['spam', 'and', 'ham']\n",
    "\n",
    "s = a.split('and') # and로 분리하고 리스트로 반환\n",
    "print(s) #['spam', 'ham']"
   ]
  },
  {
   "cell_type": "markdown",
   "metadata": {},
   "source": [
    "## join(), replace()"
   ]
  },
  {
   "cell_type": "code",
   "execution_count": 23,
   "metadata": {},
   "outputs": [
    {
     "name": "stdout",
     "output_type": "stream",
     "text": [
      "spam:and:ham\n",
      "a:b:c:d:e:f:g\n",
      "Your leg is too short\n"
     ]
    }
   ],
   "source": [
    "s2 = ':'.join(s1) # 문자를 삽입\n",
    "print(s2) # spam:and:ham\n",
    "\n",
    "a = 'abcdefg'\n",
    "s2 = ':'.join(a)\n",
    "print(s2) # a:b:c:d:e:f:g\n",
    "\n",
    "a = 'Life is too short'\n",
    "b = a.replace('Life', 'Your leg')\n",
    "print(b)"
   ]
  },
  {
   "cell_type": "markdown",
   "metadata": {},
   "source": [
    "## maketrans(), translate()"
   ]
  },
  {
   "cell_type": "code",
   "execution_count": 24,
   "metadata": {},
   "outputs": [
    {
     "name": "stdout",
     "output_type": "stream",
     "text": [
      "<class 'dict'>\n",
      "{12593: 103, 12596: 110, 12599: 100, 12601: 114, 12609: 109, 12610: 98, 12613: 115, 12615: 111, 12616: 106, 12618: 99, 12619: 107, 12620: 116, 12621: 112, 12622: 104, 12623: 97, 12628: 101, 12643: 105, 12631: 111, 12636: 117}\n",
      "ganibabo\n",
      "14 5\n"
     ]
    }
   ],
   "source": [
    "# maketrans() / translate() 함수\n",
    "# 문자열을 mapping하여 변환한 결과를 얻을 수 있다.\n",
    "\n",
    "a = 'ㄱㄴㄷㄹㅁㅂㅅㅇㅈㅊㅋㅌㅍㅎ'\n",
    "b = 'ㅏㅔㅣㅗㅜ'\n",
    "c = 'gndrmbsojcktph'\n",
    "d = 'aeiou'\n",
    "kor = a + b\n",
    "eng = c + d\n",
    "\n",
    "transtable = ''.maketrans(kor, eng) # String class 내의 내장함수 maketrans()\n",
    "print(type(transtable)) # <class 'dict'>\n",
    "print(transtable)\n",
    "\n",
    "result = 'ㄱㅏㄴㅣㅂㅏㅂㅗ'.translate(transtable)\n",
    "print(result)\n",
    "print(len(a),len(b));"
   ]
  },
  {
   "cell_type": "code",
   "execution_count": null,
   "metadata": {},
   "outputs": [],
   "source": [
    "-------------------------------------------------------------------------------------------------------------------------"
   ]
  }
 ],
 "metadata": {
  "kernelspec": {
   "display_name": "Python 3",
   "language": "python",
   "name": "python3"
  },
  "language_info": {
   "codemirror_mode": {
    "name": "ipython",
    "version": 3
   },
   "file_extension": ".py",
   "mimetype": "text/x-python",
   "name": "python",
   "nbconvert_exporter": "python",
   "pygments_lexer": "ipython3",
   "version": "3.7.4"
  }
 },
 "nbformat": 4,
 "nbformat_minor": 2
}
