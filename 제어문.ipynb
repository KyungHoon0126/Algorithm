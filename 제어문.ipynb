{
 "cells": [
  {
   "cell_type": "markdown",
   "metadata": {},
   "source": [
    "# 제어문 : if"
   ]
  },
  {
   "cell_type": "code",
   "execution_count": 12,
   "metadata": {},
   "outputs": [
    {
     "name": "stdout",
     "output_type": "stream",
     "text": [
      "15\n",
      "++++++++\n"
     ]
    }
   ],
   "source": [
    "# if\n",
    "a = 15\n",
    "\n",
    "if a == 10:\n",
    "    print('a=10')\n",
    "    print('-------')\n",
    "else :\n",
    "    print(a)\n",
    "    print('++++++++')\n",
    "    \n",
    "if a > 5 :\n",
    "    pass\n",
    "else :\n",
    "    pass"
   ]
  },
  {
   "cell_type": "code",
   "execution_count": 17,
   "metadata": {},
   "outputs": [
    {
     "name": "stdout",
     "output_type": "stream",
     "text": [
      "order price : 5000\n"
     ]
    }
   ],
   "source": [
    "order = 'spagetti'\n",
    "\n",
    "if order == 'spagetti':\n",
    "    price = 5000\n",
    "elif order == 'spam':\n",
    "    price = 6000\n",
    "elif order == 'egg':\n",
    "    price = 7000\n",
    "else:\n",
    "    price = 0\n",
    "print('order price : %d' %price)"
   ]
  },
  {
   "cell_type": "code",
   "execution_count": 19,
   "metadata": {},
   "outputs": [
    {
     "name": "stdout",
     "output_type": "stream",
     "text": [
      "order price : 5000\n"
     ]
    }
   ],
   "source": [
    "# dict 사용\n",
    "order = {'spagetti' : 5000, 'spam' : '6000', 'egg' : 7000}\n",
    "print('order price : %d' %order['spagetti'])"
   ]
  },
  {
   "cell_type": "code",
   "execution_count": 20,
   "metadata": {},
   "outputs": [
    {
     "name": "stdout",
     "output_type": "stream",
     "text": [
      "20\n"
     ]
    }
   ],
   "source": [
    "a = 10\n",
    "if a > 5 :\n",
    "    x = a * 2\n",
    "else:\n",
    "    x = a / 2\n",
    "print(x)"
   ]
  },
  {
   "cell_type": "code",
   "execution_count": 25,
   "metadata": {},
   "outputs": [
    {
     "name": "stdout",
     "output_type": "stream",
     "text": [
      "20\n"
     ]
    }
   ],
   "source": [
    "a = 10\n",
    "x = a * 2 if a > 5 else a / 2 \n",
    "print(x)"
   ]
  },
  {
   "cell_type": "code",
   "execution_count": 24,
   "metadata": {},
   "outputs": [
    {
     "name": "stdout",
     "output_type": "stream",
     "text": [
      "20\n"
     ]
    }
   ],
   "source": [
    "t = (a / 2, a*2)\n",
    "index = a > 5\n",
    "x = t[index]\n",
    "print(x)"
   ]
  },
  {
   "cell_type": "code",
   "execution_count": 37,
   "metadata": {},
   "outputs": [
    {
     "name": "stdout",
     "output_type": "stream",
     "text": [
      "20\n"
     ]
    }
   ],
   "source": [
    "x = (a / 2, a * 2)[a > 5]\n",
    "print(x)"
   ]
  },
  {
   "cell_type": "code",
   "execution_count": null,
   "metadata": {},
   "outputs": [],
   "source": [
    "-------------------------------------------------------------------------------------------------------------------------"
   ]
  },
  {
   "cell_type": "code",
   "execution_count": 30,
   "metadata": {},
   "outputs": [
    {
     "data": {
      "text/plain": [
       "'짝수'"
      ]
     },
     "execution_count": 30,
     "metadata": {},
     "output_type": "execute_result"
    }
   ],
   "source": [
    "a = 10\n",
    "x = {False:'짝수', True:'홀수'} # False = 0, True = 1\n",
    "x[a % 2]"
   ]
  },
  {
   "cell_type": "code",
   "execution_count": 53,
   "metadata": {},
   "outputs": [
    {
     "name": "stdout",
     "output_type": "stream",
     "text": [
      "짝\n"
     ]
    }
   ],
   "source": [
    "a = 10\n",
    "x = {False:'짝수', True:'홀수'}[a % 2].strip('수') # strip : 글자 제거\n",
    "print(x)"
   ]
  },
  {
   "cell_type": "code",
   "execution_count": null,
   "metadata": {},
   "outputs": [],
   "source": [
    "-------------------------------------------------------------------------------------------------------------------------"
   ]
  },
  {
   "cell_type": "markdown",
   "metadata": {},
   "source": [
    "## 제어문 : For"
   ]
  },
  {
   "cell_type": "code",
   "execution_count": 40,
   "metadata": {},
   "outputs": [
    {
     "name": "stdout",
     "output_type": "stream",
     "text": [
      "0\n",
      "1\n",
      "2\n",
      "3\n",
      "4\n",
      "5\n",
      "6\n",
      "7\n",
      "8\n",
      "9\n"
     ]
    }
   ],
   "source": [
    "for k in range(10):\n",
    "    print(k)"
   ]
  },
  {
   "cell_type": "code",
   "execution_count": 49,
   "metadata": {},
   "outputs": [
    {
     "name": "stdout",
     "output_type": "stream",
     "text": [
      "1\n",
      "2\n",
      "3\n",
      "5\n",
      "7\n",
      "9\n",
      "10\n",
      "11\n"
     ]
    }
   ],
   "source": [
    "I = [1, 2, 3, 5, 7, 9, 10, 11]\n",
    "\n",
    "for k in I:\n",
    "    print(k)"
   ]
  },
  {
   "cell_type": "markdown",
   "metadata": {},
   "source": [
    "## enumerate(), 인덱스 값도 함께 반환"
   ]
  },
  {
   "cell_type": "code",
   "execution_count": 48,
   "metadata": {},
   "outputs": [
    {
     "name": "stdout",
     "output_type": "stream",
     "text": [
      "0 cat\n",
      "1 dog\n",
      "2 bird\n",
      "3 pig\n",
      "4 tiger\n"
     ]
    }
   ],
   "source": [
    "I = ['cat', 'dog', 'bird', 'pig', 'tiger']\n",
    "\n",
    "for i, k in enumerate(I): # i : 인덱스, enumerate() : 인덱스 값도 함께 반환\n",
    "    print(i, k)"
   ]
  },
  {
   "cell_type": "markdown",
   "metadata": {},
   "source": [
    "## continue(), break 문"
   ]
  },
  {
   "cell_type": "code",
   "execution_count": 51,
   "metadata": {},
   "outputs": [
    {
     "name": "stdout",
     "output_type": "stream",
     "text": [
      "3\n",
      "4\n",
      "5\n",
      "6\n",
      "7\n",
      "8\n",
      "9\n"
     ]
    }
   ],
   "source": [
    "for x in range(10):\n",
    "    if x < 3:\n",
    "        continue;\n",
    "    print(x)"
   ]
  },
  {
   "cell_type": "code",
   "execution_count": 52,
   "metadata": {},
   "outputs": [
    {
     "name": "stdout",
     "output_type": "stream",
     "text": [
      "0\n",
      "1\n",
      "2\n",
      "3\n",
      "4\n",
      "5\n"
     ]
    }
   ],
   "source": [
    "for x in range(1000):\n",
    "    if x > 5:\n",
    "        break\n",
    "    print(x)"
   ]
  },
  {
   "cell_type": "markdown",
   "metadata": {},
   "source": [
    "## 중첩된 For문"
   ]
  },
  {
   "cell_type": "code",
   "execution_count": 55,
   "metadata": {},
   "outputs": [
    {
     "name": "stdout",
     "output_type": "stream",
     "text": [
      "2 * 1 = 2\n",
      "2 * 2 = 4\n",
      "2 * 3 = 6\n",
      "2 * 4 = 8\n",
      "2 * 5 = 10\n",
      "2 * 6 = 12\n",
      "2 * 7 = 14\n",
      "2 * 8 = 16\n",
      "2 * 9 = 18\n",
      "3 * 1 = 3\n",
      "3 * 2 = 6\n",
      "3 * 3 = 9\n",
      "3 * 4 = 12\n",
      "3 * 5 = 15\n",
      "3 * 6 = 18\n",
      "3 * 7 = 21\n",
      "3 * 8 = 24\n",
      "3 * 9 = 27\n"
     ]
    }
   ],
   "source": [
    "for x in range(2, 4):\n",
    "    for y in range(1, 10):\n",
    "        print(x, '*', y, '=', x*y)"
   ]
  },
  {
   "cell_type": "markdown",
   "metadata": {},
   "source": [
    "## while"
   ]
  },
  {
   "cell_type": "code",
   "execution_count": 21,
   "metadata": {},
   "outputs": [
    {
     "name": "stdout",
     "output_type": "stream",
     "text": [
      "0\n",
      "1\n",
      "2\n",
      "3\n",
      "4\n",
      "5\n",
      "6\n",
      "7\n",
      "8\n",
      "9\n"
     ]
    }
   ],
   "source": [
    "a = 0\n",
    "while True:\n",
    "    print(a)\n",
    "    a += 1\n",
    "    if a == 10: break;"
   ]
  },
  {
   "cell_type": "code",
   "execution_count": null,
   "metadata": {},
   "outputs": [],
   "source": [
    "-------------------------------------------------------------------------------------------------------------------------"
   ]
  },
  {
   "cell_type": "markdown",
   "metadata": {},
   "source": [
    "## [제어문 실습 과제]\n",
    "\n",
    "## 1. 1 ~ 100을 1줄에 10개씩 출력\n",
    "    - 1.1 제어문만 이용하여 작성(시퀀스 자료형 사용안함)\n",
    "    - 1.2 시퀀스 자료형을 이용하여 작성(list 내장)"
   ]
  },
  {
   "cell_type": "markdown",
   "metadata": {},
   "source": [
    "## 1 - 1번 문제"
   ]
  },
  {
   "cell_type": "code",
   "execution_count": 19,
   "metadata": {},
   "outputs": [
    {
     "name": "stdout",
     "output_type": "stream",
     "text": [
      "   1    2    3    4    5    6    7    8    9   10 \n",
      "  11   12   13   14   15   16   17   18   19   20 \n",
      "  21   22   23   24   25   26   27   28   29   30 \n",
      "  31   32   33   34   35   36   37   38   39   40 \n",
      "  41   42   43   44   45   46   47   48   49   50 \n",
      "  51   52   53   54   55   56   57   58   59   60 \n",
      "  61   62   63   64   65   66   67   68   69   70 \n",
      "  71   72   73   74   75   76   77   78   79   80 \n",
      "  81   82   83   84   85   86   87   88   89   90 \n",
      "  91   92   93   94   95   96   97   98   99  100 \n"
     ]
    }
   ],
   "source": [
    "for k in range(1, 100 + 1):\n",
    "    print('{:4}'.format(k), end =' ')\n",
    "    if k % 10 == 0:\n",
    "        print()"
   ]
  },
  {
   "cell_type": "markdown",
   "metadata": {},
   "source": [
    "## 1 - 1 번 ANSWER"
   ]
  },
  {
   "cell_type": "code",
   "execution_count": 20,
   "metadata": {},
   "outputs": [
    {
     "name": "stdout",
     "output_type": "stream",
     "text": [
      "   1    2    3    4    5    6    7    8    9   10 \n",
      "  11   12   13   14   15   16   17   18   19   20 \n",
      "  21   22   23   24   25   26   27   28   29   30 \n",
      "  31   32   33   34   35   36   37   38   39   40 \n",
      "  41   42   43   44   45   46   47   48   49   50 \n",
      "  51   52   53   54   55   56   57   58   59   60 \n",
      "  61   62   63   64   65   66   67   68   69   70 \n",
      "  71   72   73   74   75   76   77   78   79   80 \n",
      "  81   82   83   84   85   86   87   88   89   90 \n",
      "  91   92   93   94   95   96   97   98   99  100 \n"
     ]
    }
   ],
   "source": [
    "for x in range(1, 101):\n",
    "    print('{:4}'.format(x), end = ' ')\n",
    "    if x % 10 == 0:\n",
    "        print()"
   ]
  },
  {
   "cell_type": "markdown",
   "metadata": {},
   "source": [
    "## 1 - 2번 문제"
   ]
  },
  {
   "cell_type": "code",
   "execution_count": 23,
   "metadata": {},
   "outputs": [
    {
     "name": "stdout",
     "output_type": "stream",
     "text": [
      "   1    2    3    4    5    6    7    8    9   10 \n",
      "  11   12   13   14   15   16   17   18   19   20 \n",
      "  21   22   23   24   25   26   27   28   29   30 \n",
      "  31   32   33   34   35   36   37   38   39   40 \n",
      "  41   42   43   44   45   46   47   48   49   50 \n",
      "  51   52   53   54   55   56   57   58   59   60 \n",
      "  61   62   63   64   65   66   67   68   69   70 \n",
      "  71   72   73   74   75   76   77   78   79   80 \n",
      "  81   82   83   84   85   86   87   88   89   90 \n",
      "  91   92   93   94   95   96   97   98   99  100 \n"
     ]
    }
   ],
   "source": [
    "number_list = [k for k in range(1, 101)]\n",
    "   \n",
    "for k in number_list:\n",
    "    print('{:4}'.format(k), end =' ')\n",
    "    if k % 10 == 0:\n",
    "        print()"
   ]
  },
  {
   "cell_type": "markdown",
   "metadata": {},
   "source": [
    "## [제어문 실습 과제]\n",
    "\n",
    "## 2. -999가 입력 될 때 까지 점수를 입력 받은 후\n",
    "    - 양수 / 음수 개수와 양수일 때 짝수 / 홀수의 개수를 출력하는 프로그램. 양수 음수 홀수 짝수 출력, 음수일세 카운트 X"
   ]
  },
  {
   "cell_type": "code",
   "execution_count": 49,
   "metadata": {
    "scrolled": false
   },
   "outputs": [
    {
     "name": "stdout",
     "output_type": "stream",
     "text": [
      "숫자를 입력해 주세요 : 10\n",
      "숫자를 입력해 주세요 : 15\n",
      "숫자를 입력해 주세요 : 25\n",
      "숫자를 입력해 주세요 : -2\n",
      "숫자를 입력해 주세요 : -5\n",
      "숫자를 입력해 주세요 : -7\n",
      "숫자를 입력해 주세요 : -9\n",
      "숫자를 입력해 주세요 : -5\n",
      "숫자를 입력해 주세요 : -999\n",
      "짝수의 개수 : 1, 홀수의 개수 : 2\n",
      "양수의 개수 : 3, 음수의 개수 : 5\n"
     ]
    }
   ],
   "source": [
    "# 2번\n",
    "\n",
    "odd = 0; # 짝수\n",
    "opt = 0; # 홀수\n",
    "\n",
    "plus_num = 0; # 양수\n",
    "minus_num = 0; # 음수\n",
    "\n",
    "while True:\n",
    "    num = int(input('숫자를 입력해 주세요 : '))\n",
    "    if num == -999: \n",
    "        break\n",
    "    elif num > 0: \n",
    "        plus_num = plus_num + 1\n",
    "        if num % 2 == 0:\n",
    "            odd = odd + 1\n",
    "        else: \n",
    "            opt = opt + 1\n",
    "    elif num < 0 or num % 2 != 0: \n",
    "        minus_num = minus_num + 1\n",
    "        \n",
    "print('짝수의 개수 : {0}, 홀수의 개수 : {1}'.format(odd, opt))\n",
    "print('양수의 개수 : {0}, 음수의 개수 : {1}'.format(plus_num, minus_num))"
   ]
  },
  {
   "cell_type": "code",
   "execution_count": null,
   "metadata": {},
   "outputs": [],
   "source": [
    "-------------------------------------------------------------------------------------------------------------------------"
   ]
  }
 ],
 "metadata": {
  "kernelspec": {
   "display_name": "Python 3",
   "language": "python",
   "name": "python3"
  }
 },
 "nbformat": 4,
 "nbformat_minor": 2
}
