{
 "cells": [
  {
   "cell_type": "markdown",
   "metadata": {},
   "source": [
    "# 2019 / 12 / 19 / 김경훈 - 1일차 과제"
   ]
  },
  {
   "cell_type": "markdown",
   "metadata": {},
   "source": [
    "# [숫자형 실습문제]"
   ]
  },
  {
   "cell_type": "markdown",
   "metadata": {},
   "source": [
    "## 1. 속도와 거리를 입력받아 시간을 계산하여 출력하는 프로그램"
   ]
  },
  {
   "cell_type": "code",
   "execution_count": 6,
   "metadata": {},
   "outputs": [
    {
     "name": "stdout",
     "output_type": "stream",
     "text": [
      "속도를 입력해 주세요 : 5\n",
      "거리를 입력해 주세요 : 5\n",
      "<class 'str'>\n",
      "<class 'str'>\n",
      "1시간\n",
      "5의 거리를 5의 속력으로 걸리는 시간은 1시간입니다.\n",
      "방법 1) 거리 : 5 속도 : 5 시간 : 1\n",
      "방법 2) 거리 : 5 속도 : 5 시간 : 1\n"
     ]
    }
   ],
   "source": [
    "speed = input(\"속도를 입력해 주세요 : \")\n",
    "distance = input(\"거리를 입력해 주세요 : \")\n",
    "time = int(distance) / int(speed)\n",
    "\n",
    "print(type(distance)) # distance의 자료형 확인 → str\n",
    "print(type(speed)) # speed의 자료형 확인 → str\n",
    "\n",
    "print(\"%d시간\" %time)\n",
    "\n",
    "# distance와 speed의 자료형이 str이므로 int형으로 형변환을 해주어야 한다.\n",
    "print(\"%d의 거리를 %d의 속력으로 걸리는 시간은 %d시간입니다.\" %(int(distance), int(speed), time))\n",
    "\n",
    "print('방법 1) 거리 : {0} 속도 : {1} 시간 : {2}'.format(distance, speed, int(time))) # int형 변환\n",
    "print('방법 2) 거리 : {0} 속도 : {1} 시간 : {2}'.format(distance, speed, round(time))) # round() : 반올림"
   ]
  },
  {
   "cell_type": "markdown",
   "metadata": {},
   "source": [
    "## 2. 길이와 너비를 입력받아 면적과 둘레를 계산하여 출력하는 프로그램"
   ]
  },
  {
   "cell_type": "code",
   "execution_count": 47,
   "metadata": {},
   "outputs": [
    {
     "name": "stdout",
     "output_type": "stream",
     "text": [
      "길이를 입력해 주세요 : 5\n",
      "너비를 입력해 주세요 : 5\n",
      "면적 : 25\n",
      "둘레 : 20\n"
     ]
    }
   ],
   "source": [
    "weight = input(\"길이를 입력해 주세요 : \")\n",
    "height = input(\"너비를 입력해 주세요 : \")\n",
    "\n",
    "square_measure = eval(weight + '*' + height)  # 면적\n",
    "\n",
    "weight_twice = int(weight) * 2\n",
    "height_twice = int(height) * 2\n",
    "\n",
    "circumference = eval(str(weight_twice) + '+' + str(height_twice)) # 둘레\n",
    "\n",
    "\n",
    "print('면적 : %d' %int(square_measure))\n",
    "print('둘레 : %d' %int(circumference))"
   ]
  },
  {
   "cell_type": "markdown",
   "metadata": {},
   "source": [
    "## 3. 화씨 온도를 입력받아 섭씨 온도로 변환하는 프로그램"
   ]
  },
  {
   "cell_type": "code",
   "execution_count": 3,
   "metadata": {},
   "outputs": [
    {
     "name": "stdout",
     "output_type": "stream",
     "text": [
      "화씨 온도를 입력해 주세요 : 50\n",
      "화씨 온도는 10입니다.\n"
     ]
    }
   ],
   "source": [
    " #섭씨 = ( 화씨 - 32 ) / 1.8\n",
    "\n",
    "celsius = input(\"화씨 온도를 입력해 주세요 : \")\n",
    "\n",
    "change_celsius = (int(celsius) - 32) / 1.8\n",
    "\n",
    "print('화씨 온도는 %d 입니다.'%int(change_celsius))"
   ]
  },
  {
   "cell_type": "markdown",
   "metadata": {},
   "source": [
    "## 4. 두 수를 입력받아 덧셈, 뺄셈, 곱셈, 몫, 나머지를 출력하는 프로그램"
   ]
  },
  {
   "cell_type": "code",
   "execution_count": 8,
   "metadata": {},
   "outputs": [
    {
     "name": "stdout",
     "output_type": "stream",
     "text": [
      "숫자 1을 입력해 주세요 : 4\n",
      "숫자 2를 입력해 주세요 : 2\n",
      "덧셈 : 6, 뺄셈 : 2, 곱셈 : 8, 몫 : 2, 나머지 : 0\n"
     ]
    }
   ],
   "source": [
    "num1 = input('숫자 1을 입력해 주세요 : ')\n",
    "num2 = input('숫자 2를 입력해 주세요 : ')\n",
    "\n",
    "plus = int(num1) + int(num2)\n",
    "subtract = int(num1) - int(num2)\n",
    "multiply = int(num1) * int(num2) \n",
    "divide = int(num1) / int(num2)\n",
    "mok = int(num1) % int(num2)\n",
    "\n",
    "print('덧셈 : %d, 뺄셈 : %d, 곱셈 : %d, 몫 : %d, 나머지 : %d' %(int(plus), int(subtract), int(multiply), int(divide), int(mok)))"
   ]
  },
  {
   "cell_type": "code",
   "execution_count": null,
   "metadata": {},
   "outputs": [],
   "source": [
    "--------------------------------------------------------------------------"
   ]
  },
  {
   "cell_type": "markdown",
   "metadata": {},
   "source": [
    "# [문자열 실습과제]"
   ]
  },
  {
   "cell_type": "markdown",
   "metadata": {},
   "source": [
    "# 1. s = 'hong gil dong20191212623210'을 다음과 같이 출력하시오."
   ]
  },
  {
   "cell_type": "markdown",
   "metadata": {},
   "source": [
    "### Name : hong gil dong\n",
    "### Birthday : 2019/12/12\n",
    "### ID Number : 20191212-1623210"
   ]
  },
  {
   "cell_type": "code",
   "execution_count": 13,
   "metadata": {},
   "outputs": [
    {
     "name": "stdout",
     "output_type": "stream",
     "text": [
      "Name : hong gil dong\n"
     ]
    }
   ],
   "source": [
    "s = 'hong gil dong20191212623210'\n",
    "\n",
    "print('Name : %s' %s[0:13])"
   ]
  },
  {
   "cell_type": "markdown",
   "metadata": {},
   "source": [
    "# 2. s = 'PythonProgramming' 내용을 문자열 슬라이싱과 문자열 연결하기를 이용하여 'ProgrammingPython'으로 변경하여 출력하시오."
   ]
  },
  {
   "cell_type": "code",
   "execution_count": 21,
   "metadata": {},
   "outputs": [
    {
     "name": "stdout",
     "output_type": "stream",
     "text": [
      "PythonProgramming\n"
     ]
    }
   ],
   "source": [
    "s = 'PythonProgramming'\n",
    "\n",
    "tempone = s[0:6]\n",
    "temptwo = s[6:17]\n",
    "\n",
    "sentence = tempone + temptwo\n",
    "\n",
    "print(sentence)"
   ]
  },
  {
   "cell_type": "markdown",
   "metadata": {},
   "source": [
    "## 3. s = 'hello world'의 내용을 'hi world'로 변경하여 출력하시오."
   ]
  },
  {
   "cell_type": "code",
   "execution_count": 22,
   "metadata": {},
   "outputs": [
    {
     "name": "stdout",
     "output_type": "stream",
     "text": [
      "hi world\n"
     ]
    }
   ],
   "source": [
    "s = 'hello world'\n",
    "\n",
    "sentence  = s.replace('hello', 'hi')\n",
    "\n",
    "print(sentence)"
   ]
  },
  {
   "cell_type": "code",
   "execution_count": null,
   "metadata": {},
   "outputs": [],
   "source": [
    "--------------------------------------------------------------------------"
   ]
  },
  {
   "cell_type": "markdown",
   "metadata": {},
   "source": [
    "# [List 실습과제]"
   ]
  },
  {
   "cell_type": "markdown",
   "metadata": {},
   "source": [
    "## 1. 리스트에 '+', '-', '*', '/'를 저장해 놓고 정수 2개를 입력 받고 계산 방식은 정수로 입력받아 해당 연산을 수행하는 프로그램을 작성하시오(eval()함수를 사용하세요.)"
   ]
  },
  {
   "cell_type": "code",
   "execution_count": 71,
   "metadata": {},
   "outputs": [
    {
     "name": "stdout",
     "output_type": "stream",
     "text": [
      "숫자 1을 입력해 주세요 : 5\n",
      "숫자 2를 입력해 주세요 : 10\n",
      "수행할 연산기호 목록 : ['+', '-', '*', '/'] \n",
      "기호를 골라주세요 : /\n",
      "나눗셈 : 0\n"
     ]
    }
   ],
   "source": [
    "symbol = ['+', '-', '*', '/']\n",
    "\n",
    "num1 = input(\"숫자 1을 입력해 주세요 : \")\n",
    "num2 = input(\"숫자 2를 입력해 주세요 : \")\n",
    "\n",
    "print('수행할 연산기호 목록 : %s ' %symbol)\n",
    "select_symbol = input('기호를 골라주세요 : ')\n",
    "\n",
    "# case : +\n",
    "# result = [select_symbol for select_symbol in symbol if select_symbol  == \"+\"]\n",
    "\n",
    "if select_symbol == \"+\":\n",
    "    sum = int(num1) + int(num2)\n",
    "    print('합계 : %d' %sum)\n",
    "\n",
    "    \n",
    "# case : -\n",
    "# result = [select_symbol for select_symbol in symbol if select_symbol == \"-\"]\n",
    "\n",
    "if select_symbol == \"-\":\n",
    "    subtract = int(num1) - int(num2)\n",
    "    print('뺄셈 : %d' %subtract)\n",
    "    \n",
    "    \n",
    "# case : *\n",
    "# result = [select_symbol for select_symbol in symbol if select_symbol == \"*\"]\n",
    "\n",
    "if select_symbol == \"*\":\n",
    "    multiply = int(num1) * int(num2)\n",
    "    print('곱셈 : %d' %multiply)\n",
    "\n",
    "    \n",
    "# case : /\n",
    "# result = [select_symbol for select_symbol in symbol if select_symbol == \"/\"]\n",
    "\n",
    "if select_symbol == \"/\":\n",
    "    divide = int(num1) / int(num2)\n",
    "    print('나눗셈 : %d' %divide)\n",
    "\n",
    "\n",
    "# 아쉬운 점\n",
    "\n",
    "# 원래의도는 기호가 포함되어 있는 symbol List를 돌면서 입력 받은 기호가 일치하면 해당 기호의 연산을 실행하려고 하였다.\n",
    "# 그러나, 해당되는 연산기호만 실행되는것이 아니라, if문의 범위에 상관없이 다 출력이 되었다.\n",
    "# 그래서, Tab으로 들여쓰기를 시도했지만 안되었다.\n"
   ]
  },
  {
   "cell_type": "markdown",
   "metadata": {},
   "source": [
    "## 2. 1 ~ n까지 합을 출력하는 프로그램을 리스트를 이용하여 작성하시오. (range(), sum()함수를 사용하세요, 최대값 n을 input()함수로 입력 받아 사용하세요)"
   ]
  },
  {
   "cell_type": "code",
   "execution_count": 5,
   "metadata": {},
   "outputs": [
    {
     "name": "stdout",
     "output_type": "stream",
     "text": [
      "합을 구할 숫자를 입력해 주세요 : 10\n",
      "list에 저장된 값 : [1, 2, 3, 4, 5, 6, 7, 8, 9, 10] list의 총합 : 55\n"
     ]
    }
   ],
   "source": [
    "n = input('합을 구할 숫자를 입력해 주세요 : ')\n",
    "\n",
    "number_list = [k for k in range(1, int(n) + 1)]\n",
    "\n",
    "number_sum = sum(mylist)\n",
    "\n",
    "print(\"list에 저장된 값 : {0} list의 총합 : {1}\".format(number_list, number_sum))"
   ]
  },
  {
   "cell_type": "markdown",
   "metadata": {},
   "source": [
    "## 3. 1 ~ n까지 짝수합과 홀수합을 출력하는 프로그램을 리스트를 이용하여 작성하시오. (최대값 n을 input()함수로 입력 받아 사용하세요)"
   ]
  },
  {
   "cell_type": "code",
   "execution_count": 7,
   "metadata": {},
   "outputs": [
    {
     "name": "stdout",
     "output_type": "stream",
     "text": [
      "합을 구할 숫자를 입력해 주세요 : 10\n",
      "짝수의 합 : 30, 홀수의 합 : 25\n"
     ]
    }
   ],
   "source": [
    "n = int(input('합을 구할 숫자를 입력해 주세요 : '))\n",
    "\n",
    "odd_number_list = [k for k in range(0, int(n) + 1, 2)] # 짝수\n",
    "opt_number_list = [k for k in range(1, int(n) + 1, 2)] # 홀수\n",
    "\n",
    "odd_sum = sum(odd_number_list) # 짝수의 합\n",
    "opt_sum = sum(opt_number_list) # 홀수의 합\n",
    "\n",
    "print('짝수의 합 : {0}, 홀수의 합 : {1}'.format(odd_sum, opt_sum))"
   ]
  },
  {
   "cell_type": "markdown",
   "metadata": {},
   "source": [
    "## 4. 1 ~ n까지 3의 배수와 5의 배수를 제외한 수를 출력하고 그 합을 출력하는 프로그램을 작성하시오. (최대값 n을 input()함수로 입력 받아 사용하세요)\n"
   ]
  },
  {
   "cell_type": "code",
   "execution_count": 18,
   "metadata": {},
   "outputs": [
    {
     "name": "stdout",
     "output_type": "stream",
     "text": [
      "숫자를 입력해 주세요 : 15\n",
      "3의 배수와 5의 배수를 제외한 수는 [1, 2, 4, 7, 8, 11, 13, 14]이고 합은 60 입니다.\n"
     ]
    }
   ],
   "source": [
    "n = int(input('숫자를 입력해 주세요 : '))\n",
    "\n",
    "number_list = [k for k in range(0, int(n) + 1) if k % 3 != 0 and k % 5 != 0]\n",
    "print('3의 배수와 5의 배수를 제외한 수는 {0}이고 합은 {1} 입니다.'.format(number_list , sum(number_list)))"
   ]
  }
 ],
 "metadata": {
  "kernelspec": {
   "display_name": "Python 3",
   "language": "python",
   "name": "python3"
  },
  "language_info": {
   "codemirror_mode": {
    "name": "ipython",
    "version": 3
   },
   "file_extension": ".py",
   "mimetype": "text/x-python",
   "name": "python",
   "nbconvert_exporter": "python",
   "pygments_lexer": "ipython3",
   "version": "3.7.4"
  }
 },
 "nbformat": 4,
 "nbformat_minor": 2
}
