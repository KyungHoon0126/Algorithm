{
 "cells": [
  {
   "cell_type": "markdown",
   "metadata": {},
   "source": [
    "# 2019 / 12 / 20/ 김경훈"
   ]
  },
  {
   "cell_type": "markdown",
   "metadata": {},
   "source": [
    "# Dictionary(사전), <class : 'dict'>\n",
    " - {key:value, .....}, 연관형, mutable, 순서가 없다.\n",
    " - key는 반드시 ★ immutable ★ 형이어야 한다.\n",
    " - value는 immutable, mutable 모두 가능."
   ]
  },
  {
   "cell_type": "code",
   "execution_count": 31,
   "metadata": {},
   "outputs": [],
   "source": [
    "a = {'name' : '홍길동',\n",
    "     'age' : 30,\n",
    "     'phone' : '010-1234-5678',\n",
    "     'birth' : '2019-12-20',\n",
    "     10 : 100\n",
    "    }"
   ]
  },
  {
   "cell_type": "markdown",
   "metadata": {},
   "source": [
    "## 요소 접근"
   ]
  },
  {
   "cell_type": "code",
   "execution_count": 32,
   "metadata": {},
   "outputs": [
    {
     "name": "stdout",
     "output_type": "stream",
     "text": [
      "홍길동 30 010-1234-5678 100\n"
     ]
    }
   ],
   "source": [
    "print(a['name'], a['age'], a['phone'], a[10])"
   ]
  },
  {
   "cell_type": "markdown",
   "metadata": {},
   "source": [
    "## 요소 수정"
   ]
  },
  {
   "cell_type": "code",
   "execution_count": 33,
   "metadata": {},
   "outputs": [
    {
     "name": "stdout",
     "output_type": "stream",
     "text": [
      "{'name': '김경훈', 'age': 17, 'phone': '010-1234-5678', 'birth': '2019-12-20', 10: 500}\n"
     ]
    }
   ],
   "source": [
    "a['name'] = '김경훈'\n",
    "a['age'] = 17\n",
    "a[10] = 500\n",
    "print(a)"
   ]
  },
  {
   "cell_type": "markdown",
   "metadata": {},
   "source": [
    "## 요소 추가\n",
    "- 새로운 키 값을 넣으면 추가 된다."
   ]
  },
  {
   "cell_type": "code",
   "execution_count": 38,
   "metadata": {},
   "outputs": [
    {
     "name": "stdout",
     "output_type": "stream",
     "text": [
      "{'name': '김경훈', 'age': 17, 'phone': '010-1234-5678', 'birth': '2019-12-20', 10: 500, 'job': '학생', (1, 2, 3): '리스트 데이터', 'address': '대구광역시'}\n"
     ]
    }
   ],
   "source": [
    "a['address'] = '대구광역시'\n",
    "a['job'] = '학생'\n",
    "\n",
    "# a[[1, 2, 3]] = '리스트 데이터' # List(리스트_는 mutable이기 때문에 사용 불가.\n",
    "\n",
    "a[(1, 2, 3)] = '리스트 데이터' # 튜플은 immutable이기 때문에 사용 가능.\n",
    "\n",
    "print(a)"
   ]
  },
  {
   "cell_type": "markdown",
   "metadata": {},
   "source": [
    "## 요소 제거"
   ]
  },
  {
   "cell_type": "code",
   "execution_count": 39,
   "metadata": {},
   "outputs": [
    {
     "name": "stdout",
     "output_type": "stream",
     "text": [
      "{'name': '김경훈', 'age': 17, 'phone': '010-1234-5678', 'birth': '2019-12-20', 10: 500, 'job': '학생'}\n"
     ]
    }
   ],
   "source": [
    "del a['address']\n",
    "del a[(1, 2, 3)]\n",
    "print(a)"
   ]
  },
  {
   "cell_type": "code",
   "execution_count": null,
   "metadata": {},
   "outputs": [],
   "source": [
    "-------------------------------------------------------------------------------------------------------------------------"
   ]
  },
  {
   "cell_type": "markdown",
   "metadata": {},
   "source": [
    "## dict - 연산자"
   ]
  },
  {
   "cell_type": "markdown",
   "metadata": {},
   "source": [
    "### dict - keys()"
   ]
  },
  {
   "cell_type": "code",
   "execution_count": 41,
   "metadata": {},
   "outputs": [
    {
     "name": "stdout",
     "output_type": "stream",
     "text": [
      "dict_keys(['name', 'age', 'phone', 'birth', 10, 'job'])\n"
     ]
    }
   ],
   "source": [
    "print(a.keys()) # key값만 dict_kyes 타입으로 반환"
   ]
  },
  {
   "cell_type": "markdown",
   "metadata": {},
   "source": [
    "### dict - values()"
   ]
  },
  {
   "cell_type": "code",
   "execution_count": 43,
   "metadata": {},
   "outputs": [
    {
     "name": "stdout",
     "output_type": "stream",
     "text": [
      "dict_values(['김경훈', 17, '010-1234-5678', '2019-12-20', 500, '학생'])\n"
     ]
    }
   ],
   "source": [
    "print(a.values()) # value만 dict_values 타입으로 반환"
   ]
  },
  {
   "cell_type": "code",
   "execution_count": 51,
   "metadata": {},
   "outputs": [
    {
     "name": "stdout",
     "output_type": "stream",
     "text": [
      "dict_items([('name', '김경훈'), ('age', 17), ('phone', '010-1234-5678'), ('birth', '2019-12-20'), (10, 500), ('job', '학생')])\n"
     ]
    },
    {
     "data": {
      "text/plain": [
       "('name', '김경훈')"
      ]
     },
     "execution_count": 51,
     "metadata": {},
     "output_type": "execute_result"
    }
   ],
   "source": [
    "print(a.items()) # 복합 아이템 하나 하나가 튜플이 되고, 이 튜플들의 집합을 리스트로 가진다.\n",
    "\n",
    "I = list(a.items()) # List로 형 변환 가능!\n",
    "\n",
    "I[0] # 형 변환을 했기 때문에 Indexing(인덱싱)이 가능하다."
   ]
  },
  {
   "cell_type": "markdown",
   "metadata": {},
   "source": [
    "### dict - get()"
   ]
  },
  {
   "cell_type": "code",
   "execution_count": 55,
   "metadata": {},
   "outputs": [
    {
     "name": "stdout",
     "output_type": "stream",
     "text": [
      "김경훈\n",
      "김경훈\n",
      "None\n",
      "독서\n"
     ]
    }
   ],
   "source": [
    "print(a['name'])\n",
    "\n",
    "print(a.get('name'))\n",
    "\n",
    "# print(a['hobby']) # 없는 키 값을 가져오려고 할 경우 → 오류 발생. Key Error\n",
    "\n",
    "print(a.get('hobby')) # 값이 없다. None\n",
    "\n",
    "print(a.get('hobby', '독서')) # 키 값으로 'hobby'가 없으면 '독서'를 return(반환) 해준다."
   ]
  },
  {
   "cell_type": "markdown",
   "metadata": {},
   "source": [
    "### dict - update()"
   ]
  },
  {
   "cell_type": "code",
   "execution_count": 64,
   "metadata": {},
   "outputs": [
    {
     "name": "stdout",
     "output_type": "stream",
     "text": [
      "{'name': '김경훈', 'age': 10, 'phone': '010-1234-5678', 'birth': '2019-12-20', 10: 500, 'job': '학생', 'gender': '남성', 'ten': 10}\n"
     ]
    }
   ],
   "source": [
    "d = {'gender' : '남성', 'ten' : 10}\n",
    "a.update(d) # 새로운 dict 의 요소를 추가.\n",
    "print(a)"
   ]
  },
  {
   "cell_type": "code",
   "execution_count": 65,
   "metadata": {},
   "outputs": [
    {
     "name": "stdout",
     "output_type": "stream",
     "text": [
      "{'name': '김경훈', 'age': 10, 'phone': '010-1234-5678', 'birth': '2019-12-20', 10: 500, 'job': '학생', 'gender': '남성'}\n"
     ]
    }
   ],
   "source": [
    "# a.pop() # 순서가 없는 자료형이기 때문에 이 상태로는 사용 불가.\n",
    "\n",
    "a.pop('ten') # key의 values를 찾아서 삭제한다.\n",
    "print(a)"
   ]
  },
  {
   "cell_type": "code",
   "execution_count": null,
   "metadata": {},
   "outputs": [],
   "source": [
    "-------------------------------------------------------------------------------------------------------------------------"
   ]
  },
  {
   "cell_type": "markdown",
   "metadata": {},
   "source": [
    "## dictionary comprehension(사전 내용)"
   ]
  },
  {
   "cell_type": "code",
   "execution_count": 66,
   "metadata": {},
   "outputs": [
    {
     "name": "stdout",
     "output_type": "stream",
     "text": [
      "{'a': 1, 'b': 1, 'c': 1, 'd': 1, 'e': 1, 'f': 1, 'g': 1}\n"
     ]
    }
   ],
   "source": [
    "a = {k:1 for k in 'abcdefg'}\n",
    "print(a)"
   ]
  },
  {
   "cell_type": "code",
   "execution_count": 68,
   "metadata": {},
   "outputs": [
    {
     "name": "stdout",
     "output_type": "stream",
     "text": [
      "{'name': '0', 'age': '0', 'phone': '0', 'birth': '0', 10: '0'}\n"
     ]
    }
   ],
   "source": [
    "b = ['name','age','phone','birth',10]\n",
    "a = {k:'0' for k in b}\n",
    "print(a)"
   ]
  },
  {
   "cell_type": "code",
   "execution_count": null,
   "metadata": {},
   "outputs": [],
   "source": [
    "-------------------------------------------------------------------------------------------------------------------------"
   ]
  },
  {
   "cell_type": "markdown",
   "metadata": {},
   "source": [
    "## Set(집합), mutable, 순서가 없다, 중복 허용 X"
   ]
  },
  {
   "cell_type": "code",
   "execution_count": 71,
   "metadata": {},
   "outputs": [
    {
     "data": {
      "text/plain": [
       "set"
      ]
     },
     "execution_count": 71,
     "metadata": {},
     "output_type": "execute_result"
    }
   ],
   "source": [
    "s = {1, 2, 3, 4}\n",
    "type(s)"
   ]
  },
  {
   "cell_type": "code",
   "execution_count": 75,
   "metadata": {},
   "outputs": [
    {
     "name": "stdout",
     "output_type": "stream",
     "text": [
      "{8, 1, 4, 6}\n"
     ]
    }
   ],
   "source": [
    "s = {4, 4, 4, 6, 6, 6, 1, 1, 1, 8, 8, 8}\n",
    "print(s)"
   ]
  },
  {
   "cell_type": "code",
   "execution_count": 77,
   "metadata": {},
   "outputs": [
    {
     "name": "stdout",
     "output_type": "stream",
     "text": [
      "{1, 4, 6, 8, 10}\n"
     ]
    }
   ],
   "source": [
    "s.add(10)\n",
    "print(s)"
   ]
  },
  {
   "cell_type": "code",
   "execution_count": 78,
   "metadata": {},
   "outputs": [
    {
     "name": "stdout",
     "output_type": "stream",
     "text": [
      "{0, 1, 2, 4, 6, 8, 10}\n"
     ]
    }
   ],
   "source": [
    "s.update([0, 1, 2])\n",
    "print(s)"
   ]
  },
  {
   "cell_type": "code",
   "execution_count": 79,
   "metadata": {},
   "outputs": [
    {
     "name": "stdout",
     "output_type": "stream",
     "text": [
      "{0, 1, 2, 4, 6, 8}\n"
     ]
    }
   ],
   "source": [
    "s.remove(10)\n",
    "print(s)"
   ]
  },
  {
   "cell_type": "code",
   "execution_count": 80,
   "metadata": {},
   "outputs": [],
   "source": [
    "# ※ 합집합, 교집합, 차집합 ※"
   ]
  },
  {
   "cell_type": "code",
   "execution_count": null,
   "metadata": {},
   "outputs": [],
   "source": [
    "-------------------------------------------------------------------------------------------------------------------------"
   ]
  }
 ],
 "metadata": {
  "kernelspec": {
   "display_name": "Python 3",
   "language": "python",
   "name": "python3"
  },
  "language_info": {
   "codemirror_mode": {
    "name": "ipython",
    "version": 3
   },
   "file_extension": ".py",
   "mimetype": "text/x-python",
   "name": "python",
   "nbconvert_exporter": "python",
   "pygments_lexer": "ipython3",
   "version": "3.7.4"
  }
 },
 "nbformat": 4,
 "nbformat_minor": 2
}
