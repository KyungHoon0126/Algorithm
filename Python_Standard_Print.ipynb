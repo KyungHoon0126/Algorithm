{
 "cells": [
  {
   "cell_type": "markdown",
   "metadata": {},
   "source": [
    "# 2019 / 12 / 19 / 김경훈"
   ]
  },
  {
   "cell_type": "markdown",
   "metadata": {},
   "source": [
    "## 객체\n",
    "### → 모든 데이터는 객체로 생성된다"
   ]
  },
  {
   "cell_type": "code",
   "execution_count": 2,
   "metadata": {},
   "outputs": [
    {
     "name": "stdout",
     "output_type": "stream",
     "text": [
      "0x7ffe4f8ea530\n",
      "0x7ffe4f8ea670\n",
      "0x7ffe4f8ea670\n",
      "0x7ffe4f8ea530\n"
     ]
    }
   ],
   "source": [
    "a = 30\n",
    "print(hex(id(a)))\n",
    "\n",
    "b = 40\n",
    "print(hex(id(b)))\n",
    "\n",
    "a = b  # a와 b는 같은 객체를 참조하게 된다.\n",
    "print(hex(id(a)))\n",
    "\n",
    "a = 30\n",
    "print(hex(id(a)))"
   ]
  },
  {
   "cell_type": "code",
   "execution_count": 3,
   "metadata": {},
   "outputs": [],
   "source": [
    "-------------------------------------------------------------------------------------------------------------------------"
   ]
  },
  {
   "cell_type": "markdown",
   "metadata": {},
   "source": [
    "## 표준 입출력"
   ]
  },
  {
   "cell_type": "code",
   "execution_count": 4,
   "metadata": {},
   "outputs": [
    {
     "name": "stdout",
     "output_type": "stream",
     "text": [
      "2\n"
     ]
    }
   ],
   "source": [
    "a = input()"
   ]
  },
  {
   "cell_type": "code",
   "execution_count": 5,
   "metadata": {},
   "outputs": [
    {
     "name": "stdout",
     "output_type": "stream",
     "text": [
      "수학점수 : 95\n",
      "영어점수 : 95\n",
      "합계 :  190\n"
     ]
    }
   ],
   "source": [
    "math = input('수학점수 : ')\n",
    "english = input('영어점수 : ')\n",
    "total = int(math) + int(english)\n",
    "print(\"합계 : \",total)"
   ]
  },
  {
   "cell_type": "code",
   "execution_count": null,
   "metadata": {},
   "outputs": [],
   "source": [
    "-------------------------------------------------------------------------------------------------------------------------"
   ]
  },
  {
   "cell_type": "markdown",
   "metadata": {},
   "source": [
    "## 표준 출력 : print()"
   ]
  },
  {
   "cell_type": "code",
   "execution_count": 6,
   "metadata": {},
   "outputs": [
    {
     "name": "stdout",
     "output_type": "stream",
     "text": [
      "add :  9\n",
      "sub :  2\n",
      "1 2\n",
      "3 4\n"
     ]
    }
   ],
   "source": [
    "print('add : ', 4 + 5)\n",
    "print('sub : ', 4 - 2)\n",
    "\n",
    "print(1, 2); print(3, 4) # 마지막에 자동으로 \\n(개행)이 이루어진다."
   ]
  },
  {
   "cell_type": "code",
   "execution_count": 7,
   "metadata": {},
   "outputs": [
    {
     "name": "stdout",
     "output_type": "stream",
     "text": [
      "1 2 3 4\n",
      "2 40c"
     ]
    }
   ],
   "source": [
    "print(1,2,end = ' ') # end : print()가 끝난뒤에 올 문자 ''\n",
    "print(3, 4)\n",
    "\n",
    "print(a,b,end = 'c') # end : print()가 끝난뒤에 올 문자 c"
   ]
  },
  {
   "cell_type": "code",
   "execution_count": 8,
   "metadata": {},
   "outputs": [
    {
     "name": "stdout",
     "output_type": "stream",
     "text": [
      "5:6:7\n"
     ]
    }
   ],
   "source": [
    "print(5, 6, 7, sep=':') # Space가 데이터마다 기본 사이문자 이지만, sep를 이요해서 데이터 마다 사이 문자를 정해줄 수 있다"
   ]
  },
  {
   "cell_type": "code",
   "execution_count": null,
   "metadata": {},
   "outputs": [],
   "source": [
    "-------------------------------------------------------------------------------------------------------------------------"
   ]
  },
  {
   "cell_type": "markdown",
   "metadata": {},
   "source": [
    "## print formatting"
   ]
  },
  {
   "cell_type": "code",
   "execution_count": 9,
   "metadata": {},
   "outputs": [
    {
     "name": "stdout",
     "output_type": "stream",
     "text": [
      "int형 : 10\n",
      "float형 : 1.234000\n",
      "16진수 : 0xa\n",
      "문자열 : Hello Python\n",
      "문자열 : 10\n",
      "문자열 : Hello Python  int형 : 10\n"
     ]
    }
   ],
   "source": [
    "num_1 = 10\n",
    "num_2 = 1.234\n",
    "\n",
    "str_1 = 'Hello Python'\n",
    "\n",
    "print(\"int형 : %d\" %num_1) # C언어 , 변수를 이용해서 출력하는것이 아니라 %변수로 출력한다.\n",
    "print(\"float형 : %f\" %num_2)\n",
    "print(\"16진수 : 0x%x\" %num_1)\n",
    "print(\"문자열 : %s\" %str_1)\n",
    "print(\"문자열 : %s\" %num_1) # int를 string으로 형 변환.\n",
    "\n",
    "# print(\"문자열 : %d\" %str_1) #TypeError\n",
    "\n",
    "print(\"문자열 : %s  int형 : %d\" %(str_1, num_1)) # 2개 이상을 나타낼 때 : 괄호로 묶어서 표현."
   ]
  },
  {
   "cell_type": "markdown",
   "metadata": {},
   "source": [
    "## format() 함수"
   ]
  },
  {
   "cell_type": "code",
   "execution_count": 11,
   "metadata": {},
   "outputs": [
    {
     "name": "stdout",
     "output_type": "stream",
     "text": [
      "1.234567\n",
      "apple 7.77\n",
      "7.77 apple\n",
      "7.77 7.77\n",
      "apple 7.77\n",
      "apple      7.77\n",
      "     apple 7.77\n",
      "  apple    7.77\n",
      "apple===== 7.77\n",
      "=====apple 7.77\n",
      "==apple=== 7.77\n"
     ]
    }
   ],
   "source": [
    "#format() 함수 사용\n",
    "print(format(1.234567,\"7.6f\")) # 전체 7자리, 소숫점 6 자리\n",
    "\n",
    "print('{0} {1}'.format('apple', 7.77))\n",
    "\n",
    "\n",
    "print('{1} {0}'.format('apple', 7.77)) # 반대로\n",
    "print('{1} {1}'.format('apple', 7.77)) # 같은 값\n",
    "print('{} {}'.format('apple', 7.77)) # 인덱스 생략시 자동으로 지정\n",
    "\n",
    "\n",
    "print('{0:<10}{1:5.2f}'.format('apple', 7.77)) # 왼쪽\n",
    "print('{0:>10}{1:5.2f}'.format('apple', 7.77)) # 오른쪽\n",
    "print('{0:^10}{1:5.2f}'.format('apple', 7.77)) # 가운데\n",
    "\n",
    "\n",
    "print('{0:=<10}{1:5.2f}'.format('apple', 7.77)) \n",
    "print('{0:=>10}{1:5.2f}'.format('apple', 7.77)) \n",
    "print('{0:=^10}{1:5.2f}'.format('apple', 7.77)) "
   ]
  },
  {
   "cell_type": "markdown",
   "metadata": {},
   "source": [
    "##  PROBLEM - 실습 과제\n",
    "### [숫자형 실습문제]\n",
    "\n",
    "### 1. 속도와 거리를 입력받아 시간을 계산하여 출력하는 프로그램."
   ]
  },
  {
   "cell_type": "code",
   "execution_count": 13,
   "metadata": {},
   "outputs": [
    {
     "name": "stdout",
     "output_type": "stream",
     "text": [
      "속도를 입력해 주세요 : 5\n",
      "거리를 입력해 주세요 : 5\n",
      "<class 'str'>\n",
      "<class 'str'>\n",
      "1시간\n",
      "5의 거리를 5의 속력으로 걸리는 시간은 1시간입니다.\n",
      "거리 : 5  속도 : 5  시간 : 1\n",
      "거리 : 5  속도 : 5  시간 : 1\n"
     ]
    }
   ],
   "source": [
    "speed = input('속도를 입력해 주세요 : ')\n",
    "distance = input('거리를 입력해 주세요 : ')\n",
    "time = int(distance) / int(speed)\n",
    "\n",
    "print(type(distance)) # 자료형 확인 → str\n",
    "print(type(speed)) # 자료형 확인 → str\n",
    "\n",
    "print(\"%d시간\" %time)\n",
    "print(\"%d의 거리를 %d의 속력으로 걸리는 시간은 %d시간입니다.\" %(int(distance), int(speed), time)) # distance와 speed가 str이므로 int형으로 형변환을 해준다.\n",
    "\n",
    "\n",
    "print('거리 : {0}  속도 : {1}  시간 : {2}'.format(distance, speed, int(time))) # int형 변환\n",
    "print('거리 : {0}  속도 : {1}  시간 : {2}'.format(distance, speed, round(time))) # round() : 반올림"
   ]
  },
  {
   "cell_type": "markdown",
   "metadata": {},
   "source": [
    "## ANSWER"
   ]
  },
  {
   "cell_type": "code",
   "execution_count": 14,
   "metadata": {},
   "outputs": [
    {
     "name": "stdout",
     "output_type": "stream",
     "text": [
      "========================1번========================\n",
      "input velocity : 10\n",
      "input distance : 5\n",
      "\n",
      "velocity : 10.00 \n",
      "velocity : 5.00  \n",
      "  time   : 0.50  \n",
      "==================================================\n"
     ]
    }
   ],
   "source": [
    "# Answer\n",
    "print('{0:=^50}'.format('1번'))\n",
    "velocity = input('input velocity : ')\n",
    "distance = input('input distance : ')\n",
    "\n",
    "time = int(distance) / int(velocity)\n",
    "\n",
    "print()\n",
    "print('velocity : {0:<6.2f}'.format(float(velocity)))\n",
    "print('velocity : {0:<6.2f}'.format(float(distance)))\n",
    "print('  time   : {0:<6.2f}'.format(time))\n",
    "\n",
    "print('='*50)"
   ]
  },
  {
   "cell_type": "code",
   "execution_count": null,
   "metadata": {},
   "outputs": [],
   "source": [
    "-------------------------------------------------------------------------------------------------------------------------"
   ]
  },
  {
   "cell_type": "markdown",
   "metadata": {},
   "source": [
    "## eval() 함수 : 문자열로 표현된 파이썬 식(expression)을 인자로 받아 인터프리터가 번역하여 \n",
    "\n",
    "## 실행하도록 한다."
   ]
  },
  {
   "cell_type": "code",
   "execution_count": 17,
   "metadata": {},
   "outputs": [
    {
     "data": {
      "text/plain": [
       "30"
      ]
     },
     "execution_count": 17,
     "metadata": {},
     "output_type": "execute_result"
    }
   ],
   "source": [
    "a = 10\n",
    "b = eval('a + 20') # 식\n",
    "b"
   ]
  },
  {
   "cell_type": "code",
   "execution_count": 18,
   "metadata": {},
   "outputs": [
    {
     "name": "stdout",
     "output_type": "stream",
     "text": [
      "input velocity : 10\n",
      "input distance : 20\n",
      "2\n"
     ]
    }
   ],
   "source": [
    "velocity = input('input velocity : ')\n",
    "distance = input('input distance : ')\n",
    "\n",
    "temp = distance + '/' + velocity # 문자열 즉, 식이 만들어진다.\n",
    "# print(temp) → 20/10\n",
    "\n",
    "time = eval(distance + '/' + velocity) # 위의 식을 eval()에 인자로 넘기면 자동으로 문자열을 번역해서 실행. → 형 변환 필요 X\n",
    "print(int(time))"
   ]
  },
  {
   "cell_type": "code",
   "execution_count": null,
   "metadata": {},
   "outputs": [],
   "source": [
    "-------------------------------------------------------------------------------------------------------------------------"
   ]
  }
 ],
 "metadata": {
  "kernelspec": {
   "display_name": "Python 3",
   "language": "python",
   "name": "python3"
  },
  "language_info": {
   "codemirror_mode": {
    "name": "ipython",
    "version": 3
   },
   "file_extension": ".py",
   "mimetype": "text/x-python",
   "name": "python",
   "nbconvert_exporter": "python",
   "pygments_lexer": "ipython3",
   "version": "3.7.4"
  }
 },
 "nbformat": 4,
 "nbformat_minor": 2
}
