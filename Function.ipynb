{
 "cells": [
  {
   "cell_type": "markdown",
   "metadata": {},
   "source": [
    "# 2019 / 12 / 20 / 김경훈"
   ]
  },
  {
   "cell_type": "markdown",
   "metadata": {},
   "source": [
    "# 함수"
   ]
  },
  {
   "cell_type": "code",
   "execution_count": null,
   "metadata": {},
   "outputs": [],
   "source": [
    "## 함수\n",
    "\n",
    "'''\n",
    "def 함수명(매개변수);\n",
    "    <수행할 문장1>\n",
    "    <수행할 문장2>\n",
    "    \n",
    "    return 반환할 값\n",
    "'''"
   ]
  },
  {
   "cell_type": "code",
   "execution_count": 11,
   "metadata": {},
   "outputs": [
    {
     "name": "stdout",
     "output_type": "stream",
     "text": [
      "add called\n",
      "helloPython\n"
     ]
    }
   ],
   "source": [
    "def add(a,b):\n",
    "    c = a + b\n",
    "    print('add called')\n",
    "    return c\n",
    "\n",
    "def subtract(a,b):\n",
    "    c = a - b\n",
    "    return c\n",
    "\n",
    "def multiply(a,b):\n",
    "    c = a * b\n",
    "    return c\n",
    "\n",
    "def divide(a,b):\n",
    "    c = a / b\n",
    "    return c"
   ]
  },
  {
   "cell_type": "code",
   "execution_count": 14,
   "metadata": {},
   "outputs": [
    {
     "name": "stdout",
     "output_type": "stream",
     "text": [
      "add called\n",
      "30\n",
      "20\n",
      "200\n",
      "2.0\n",
      "add called\n",
      "helloPython\n",
      "**********\n"
     ]
    }
   ],
   "source": [
    "print(add(10, 20))\n",
    "\n",
    "print(subtract(30, 10))\n",
    "\n",
    "print(multiply(20, 10))\n",
    "\n",
    "print(divide(20, 10))\n",
    "\n",
    "print(add('hello', 'Python'))\n",
    "print(multiply('*', 10))"
   ]
  },
  {
   "cell_type": "code",
   "execution_count": null,
   "metadata": {},
   "outputs": [],
   "source": [
    "-------------------------------------------------------------------------------------------------------------------------"
   ]
  },
  {
   "cell_type": "markdown",
   "metadata": {},
   "source": [
    "# 함수 구현 순서\n",
    "- (1) def를 사용하고 함수이름을 결정\n",
    "- (2) 매개변수(인자)를 결정\n",
    "- (3) 인자를 사용하여 처리하는 코드를 구현\n",
    "- (4) return을 사용하여 결과값을 반환\n",
    "- (5) 인자를 설정하여 함수를 호출하여 결과를 확인"
   ]
  },
  {
   "cell_type": "markdown",
   "metadata": {},
   "source": [
    "# 함수의 유형 4가지"
   ]
  },
  {
   "cell_type": "markdown",
   "metadata": {},
   "source": [
    "## [1] 반환값이 없고 인자가 없는 경우"
   ]
  },
  {
   "cell_type": "code",
   "execution_count": 18,
   "metadata": {},
   "outputs": [
    {
     "name": "stdout",
     "output_type": "stream",
     "text": [
      "f_1 is called\n"
     ]
    }
   ],
   "source": [
    "def f_1():\n",
    "    print(\"f_1 is called\")\n",
    "    \n",
    "f_1()"
   ]
  },
  {
   "cell_type": "markdown",
   "metadata": {},
   "source": [
    "## [2] 반환값이 없고 인자가 있는 경우"
   ]
  },
  {
   "cell_type": "code",
   "execution_count": 33,
   "metadata": {},
   "outputs": [
    {
     "name": "stdout",
     "output_type": "stream",
     "text": [
      "f_2 :  13 30\n",
      "f_special :  30 200\n",
      "f_special :  25 100\n",
      "f_special :  30 200\n",
      "None\n",
      "f_special :  25 100\n",
      "None\n",
      "f_special :  13 30\n"
     ]
    }
   ],
   "source": [
    "def f_2(a, b):\n",
    "    print('f_2 : ', a + b, a * b)\n",
    "    \n",
    "\n",
    "def f_special(a = 10, b = 20): # 디폴트 인수(default 인수)\n",
    "    print('f_special : ', a + b, a * b)\n",
    "\n",
    "    \n",
    "f_2(10, 3)    \n",
    "    \n",
    "f_special()\n",
    "f_special((5))\n",
    "\n",
    "print(f_special())\n",
    "print(f_special(5))\n",
    "\n",
    "f_special(10, 3)"
   ]
  },
  {
   "cell_type": "markdown",
   "metadata": {},
   "source": [
    "## [3] 반환값이 있고 인자가 없는 경우"
   ]
  },
  {
   "cell_type": "code",
   "execution_count": 39,
   "metadata": {},
   "outputs": [
    {
     "name": "stdout",
     "output_type": "stream",
     "text": [
      "f_3 is called!\n",
      "<class 'tuple'>\n",
      "f_3 is called!\n",
      "('Bread', 'Butter', 100)\n",
      "f_3 is called!\n",
      "f_3 is called!\n",
      "('Bread', 'Butter', 100)\n",
      "f_3 is called!\n",
      "Bread\n"
     ]
    }
   ],
   "source": [
    "def f_3():\n",
    "    print('f_3 is called!')\n",
    "    return 'Bread', 'Butter', 100\n",
    "\n",
    "print(type(f_3()))\n",
    "\n",
    "print(f_3())\n",
    "\n",
    "f_3()\n",
    "\n",
    "\n",
    "t = f_3()\n",
    "print(t)\n",
    "a, b, c = f_3()\n",
    "print(a)"
   ]
  },
  {
   "cell_type": "markdown",
   "metadata": {},
   "source": [
    "## [4] 반환값이 있고 인자가 있는 경우"
   ]
  },
  {
   "cell_type": "code",
   "execution_count": 41,
   "metadata": {},
   "outputs": [
    {
     "name": "stdout",
     "output_type": "stream",
     "text": [
      "f_4 is called!\n"
     ]
    },
    {
     "data": {
      "text/plain": [
       "(9, -3, 18, 0.5)"
      ]
     },
     "execution_count": 41,
     "metadata": {},
     "output_type": "execute_result"
    }
   ],
   "source": [
    "def f_4(a, b):\n",
    "    print('f_4 is called!')\n",
    "    return a + b, a - b, a * b, a / b\n",
    "\n",
    "f_4(3, 6)"
   ]
  },
  {
   "cell_type": "code",
   "execution_count": null,
   "metadata": {},
   "outputs": [],
   "source": [
    "-------------------------------------------------------------------------------------------------------------------------"
   ]
  },
  {
   "cell_type": "code",
   "execution_count": 52,
   "metadata": {},
   "outputs": [
    {
     "name": "stdout",
     "output_type": "stream",
     "text": [
      "(5, 3)\n"
     ]
    }
   ],
   "source": [
    "# 문제 : 2개의 정수에 대해 큰 수, 작은 수의 순서로 반환하는 함수를 만드시오. (함수 이름은 order())\n",
    "# 3, 5 => 5, 3\n",
    "# 5, 3 => 3, 5\n",
    "\n",
    "def order(a, b):\n",
    "    if a < b:\n",
    "        a, b = b, a\n",
    "    return a, b\n",
    "    \n",
    "    \n",
    "print(order(3, 5))"
   ]
  },
  {
   "cell_type": "code",
   "execution_count": 51,
   "metadata": {},
   "outputs": [
    {
     "name": "stdout",
     "output_type": "stream",
     "text": [
      "100\n"
     ]
    }
   ],
   "source": [
    "def max(a, b):\n",
    "    if a > b:\n",
    "        return a\n",
    "    return b\n",
    "\n",
    "print(max(100, 30))"
   ]
  },
  {
   "cell_type": "code",
   "execution_count": 56,
   "metadata": {},
   "outputs": [
    {
     "name": "stdout",
     "output_type": "stream",
     "text": [
      "5.5\n"
     ]
    }
   ],
   "source": [
    "def avg(I):\n",
    "    return sum(I) / len(I)\n",
    "\n",
    "I = [1, 2, 3, 4, 5, 6, 7, 8, 9, 10]\n",
    "print(avg(I))"
   ]
  }
 ],
 "metadata": {
  "kernelspec": {
   "display_name": "Python 3",
   "language": "python",
   "name": "python3"
  },
  "language_info": {
   "codemirror_mode": {
    "name": "ipython",
    "version": 3
   },
   "file_extension": ".py",
   "mimetype": "text/x-python",
   "name": "python",
   "nbconvert_exporter": "python",
   "pygments_lexer": "ipython3",
   "version": "3.7.4"
  }
 },
 "nbformat": 4,
 "nbformat_minor": 2
}
