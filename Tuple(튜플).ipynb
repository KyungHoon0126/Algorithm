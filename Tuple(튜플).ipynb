{
 "cells": [
  {
   "cell_type": "markdown",
   "metadata": {},
   "source": [
    "# 2019 / 12 / 20 / 김경훈\",
    "# 튜플(tuple)\n",
    "- 불변형(immutable), 시퀀스, () 소괄호 사용"
   ]
  },
  {
   "cell_type": "code",
   "execution_count": 3,
   "metadata": {},
   "outputs": [
    {
     "name": "stdout",
     "output_type": "stream",
     "text": [
      "(1, 2, 3, 4, 5, 6, 7)\n"
     ]
    },
    {
     "data": {
      "text/plain": [
       "tuple"
      ]
     },
     "execution_count": 3,
     "metadata": {},
     "output_type": "execute_result"
    }
   ],
   "source": [
    "a = (1, 2, 3, 4, 5, 6, 7)\n",
    "print(a)\n",
    "type(a)"
   ]
  },
  {
   "cell_type": "markdown",
   "metadata": {},
   "source": [
    "## tuple - 인덱싱(indexing)"
   ]
  },
  {
   "cell_type": "code",
   "execution_count": 5,
   "metadata": {},
   "outputs": [
    {
     "name": "stdout",
     "output_type": "stream",
     "text": [
      "1 2 7\n"
     ]
    }
   ],
   "source": [
    "print(a[0], a[1], a[-1])"
   ]
  },
  {
   "cell_type": "code",
   "execution_count": 17,
   "metadata": {},
   "outputs": [
    {
     "ename": "TypeError",
     "evalue": "'tuple' object does not support item assignment",
     "output_type": "error",
     "traceback": [
      "\u001b[1;31m---------------------------------------------------------------------------\u001b[0m",
      "\u001b[1;31mTypeError\u001b[0m                                 Traceback (most recent call last)",
      "\u001b[1;32m<ipython-input-17-b06eb9e04da2>\u001b[0m in \u001b[0;36m<module>\u001b[1;34m\u001b[0m\n\u001b[1;32m----> 1\u001b[1;33m \u001b[0ma\u001b[0m\u001b[1;33m[\u001b[0m\u001b[1;36m0\u001b[0m\u001b[1;33m]\u001b[0m \u001b[1;33m=\u001b[0m \u001b[1;36m10\u001b[0m \u001b[1;31m# tuple은 immutable이기 때문에 값을 수정할 수 없다.\u001b[0m\u001b[1;33m\u001b[0m\u001b[1;33m\u001b[0m\u001b[0m\n\u001b[0m",
      "\u001b[1;31mTypeError\u001b[0m: 'tuple' object does not support item assignment"
     ]
    }
   ],
   "source": [
    "a[0] = 10 # tuple은 immutable이기 때문에 값을 수정할 수 없다."
   ]
  },
  {
   "cell_type": "markdown",
   "metadata": {},
   "source": [
    "### Tuple a의 값은 변경할 수 없기 때문에 다른 변수에 a의 Tuple을 list로 형 변환 한다. \n",
    "### 그리고 값을 변경한 후에 다시 b를 tuple로 형 변환 하면 값을 바꿀 수 있다."
   ]
  },
  {
   "cell_type": "code",
   "execution_count": 16,
   "metadata": {},
   "outputs": [
    {
     "data": {
      "text/plain": [
       "(10, 2, 3, 4, 5, 6, 7)"
      ]
     },
     "execution_count": 16,
     "metadata": {},
     "output_type": "execute_result"
    }
   ],
   "source": [
    "b = list(a)\n",
    "b[0] = 10\n",
    "b = tuple(b)\n",
    "b"
   ]
  },
  {
   "cell_type": "markdown",
   "metadata": {},
   "source": [
    "## tuple - 슬라이싱(slicing)"
   ]
  },
  {
   "cell_type": "code",
   "execution_count": 20,
   "metadata": {},
   "outputs": [
    {
     "name": "stdout",
     "output_type": "stream",
     "text": [
      "(1, 2)\n",
      "(1, 3, 5, 7)\n",
      "(7, 6, 5, 4, 3, 2, 1)\n"
     ]
    }
   ],
   "source": [
    "a = (1, 2, 3, 4, 5, 6, 7)\n",
    "print(a[0:2])\n",
    "print(a[::2])\n",
    "print(a[::-1])"
   ]
  },
  {
   "cell_type": "code",
   "execution_count": null,
   "metadata": {},
   "outputs": [],
   "source": [
    "-------------------------------------------------------------------------------------------------------------------------"
   ]
  },
  {
   "cell_type": "markdown",
   "metadata": {},
   "source": [
    "## tuple - 패킹, 언패킹"
   ]
  },
  {
   "cell_type": "code",
   "execution_count": 25,
   "metadata": {},
   "outputs": [
    {
     "name": "stdout",
     "output_type": "stream",
     "text": [
      "<class 'tuple'>\n",
      "1\n",
      "2\n",
      "3\n",
      "1 2 3\n"
     ]
    }
   ],
   "source": [
    "t = 1, 2, 3 # 패킹\n",
    "print(type(t))\n",
    "\n",
    "x, y, z = t # 언패킹\n",
    "\n",
    "print(x)\n",
    "print(y)\n",
    "print(z)\n",
    "\n",
    "print(x, y, z)"
   ]
  },
  {
   "cell_type": "code",
   "execution_count": 29,
   "metadata": {},
   "outputs": [
    {
     "name": "stdout",
     "output_type": "stream",
     "text": [
      "<class 'tuple'>\n"
     ]
    },
    {
     "data": {
      "text/plain": [
       "(int, int, str)"
      ]
     },
     "execution_count": 29,
     "metadata": {},
     "output_type": "execute_result"
    }
   ],
   "source": [
    "t = 1, 2, 'hello' # 패킹, 같은 데이터형이 아니어도 된다.\n",
    "print(type(t))\n",
    "\n",
    "x, y, z = t\n",
    "type(x), type(y), type(z)"
   ]
  },
  {
   "cell_type": "markdown",
   "metadata": {},
   "source": [
    "## 확장된 언패킹"
   ]
  },
  {
   "cell_type": "code",
   "execution_count": 32,
   "metadata": {},
   "outputs": [
    {
     "ename": "ValueError",
     "evalue": "too many values to unpack (expected 2)",
     "output_type": "error",
     "traceback": [
      "\u001b[1;31m---------------------------------------------------------------------------\u001b[0m",
      "\u001b[1;31mValueError\u001b[0m                                Traceback (most recent call last)",
      "\u001b[1;32m<ipython-input-32-12f91024784c>\u001b[0m in \u001b[0;36m<module>\u001b[1;34m\u001b[0m\n\u001b[0;32m      1\u001b[0m \u001b[0mt\u001b[0m \u001b[1;33m=\u001b[0m \u001b[1;33m(\u001b[0m\u001b[1;36m1\u001b[0m\u001b[1;33m,\u001b[0m \u001b[1;36m2\u001b[0m\u001b[1;33m,\u001b[0m \u001b[1;36m3\u001b[0m\u001b[1;33m,\u001b[0m \u001b[1;36m4\u001b[0m\u001b[1;33m,\u001b[0m \u001b[1;36m5\u001b[0m\u001b[1;33m)\u001b[0m\u001b[1;33m\u001b[0m\u001b[1;33m\u001b[0m\u001b[0m\n\u001b[0;32m      2\u001b[0m \u001b[1;33m\u001b[0m\u001b[0m\n\u001b[1;32m----> 3\u001b[1;33m \u001b[0ma\u001b[0m\u001b[1;33m,\u001b[0m \u001b[0mb\u001b[0m \u001b[1;33m=\u001b[0m \u001b[0mt\u001b[0m \u001b[1;31m# 오류 발생\u001b[0m\u001b[1;33m\u001b[0m\u001b[1;33m\u001b[0m\u001b[0m\n\u001b[0m",
      "\u001b[1;31mValueError\u001b[0m: too many values to unpack (expected 2)"
     ]
    }
   ],
   "source": [
    "t = (1, 2, 3, 4, 5)\n",
    "\n",
    "a, b = t # 오류 발생"
   ]
  },
  {
   "cell_type": "code",
   "execution_count": 117,
   "metadata": {},
   "outputs": [
    {
     "name": "stdout",
     "output_type": "stream",
     "text": [
      "[ a, *b ] a에 하나 할당 & b에 나머지를 할당하는 경우\n",
      "1\n",
      "[2, 3, 4, 5]\n",
      "\n",
      "[ *a, b ] a에 여러개 할당 & b에 하나를 할당하는 경우\n",
      "[1, 2, 3, 4]\n",
      "5\n",
      "\n",
      "[ a, b, *c ] a에 한개 할당 & b에 한개 할당 & c에 나머지 할당하는 경우\n",
      "1\n",
      "2\n",
      "[3, 4, 5]\n"
     ]
    }
   ],
   "source": [
    "t = (1, 2, 3, 4, 5)\n",
    "\n",
    "a, b, _, _, _ = t # 이렇게도 사용 가능, _ : 할당 하지 않겠다는 의미.\n",
    "\n",
    "# * : 확장된 언패킹\n",
    "\n",
    "print('[ a, *b ] a에 하나 할당 & b에 나머지를 할당하는 경우')\n",
    "a,*b = t # 확장된 언패킹\n",
    "print(a) # a에 하나 할당\n",
    "print(b) # b에 나머지 모두 할당\n",
    "\n",
    "print() # 개행\n",
    "\n",
    "print('[ *a, b ] a에 여러개 할당 & b에 하나를 할당하는 경우')\n",
    "*a, b = t\n",
    "print(a)\n",
    "print(b)\n",
    "\n",
    "print() # 개행\n",
    "\n",
    "print('[ a, b, *c ] a에 한개 할당 & b에 한개 할당 & c에 나머지 할당하는 경우')\n",
    "a, b, *c = t\n",
    "print(a)\n",
    "print(b)\n",
    "print(c)\n",
    "\n",
    "# a, *b, *c = t # SyntaxError"
   ]
  },
  {
   "cell_type": "code",
   "execution_count": null,
   "metadata": {},
   "outputs": [],
   "source": [
    "-------------------------------------------------------------------------------------------------------------------------"
   ]
  },
  {
   "cell_type": "markdown",
   "metadata": {},
   "source": [
    "## tuple - 빈튜플 & 빈 리스트"
   ]
  },
  {
   "cell_type": "code",
   "execution_count": 118,
   "metadata": {},
   "outputs": [
    {
     "name": "stdout",
     "output_type": "stream",
     "text": [
      "<class 'int'>\n",
      "<class 'tuple'>\n",
      "<class 'int'>\n",
      "<class 'tuple'>\n"
     ]
    }
   ],
   "source": [
    "t = () # 빈튜플\n",
    "l = [] # 빈리스트\n",
    "\n",
    "t = (1)\n",
    "print(type(t)) # int\n",
    "\n",
    "t = (1, )\n",
    "print(type(t)) # tuple, ★ 데이터가 1개여도 , 가 있으면 튜플이다. ★\n",
    "\n",
    "t = 1\n",
    "print(type(t)) # int\n",
    "\n",
    "t = 1, \n",
    "print(type(t)) # tuple, ★ 데이터가 1개여도 , 가 있으면 튜플이다. ★"
   ]
  },
  {
   "cell_type": "code",
   "execution_count": null,
   "metadata": {},
   "outputs": [],
   "source": [
    "-------------------------------------------------------------------------------------------------------------------------"
   ]
  },
  {
   "cell_type": "markdown",
   "metadata": {},
   "source": [
    "## tuple - 연산자"
   ]
  },
  {
   "cell_type": "markdown",
   "metadata": {},
   "source": [
    "## tuple : + "
   ]
  },
  {
   "cell_type": "code",
   "execution_count": 84,
   "metadata": {},
   "outputs": [
    {
     "name": "stdout",
     "output_type": "stream",
     "text": [
      "(1, 2, 3, 'apple', 'banana')\n",
      "<class 'tuple'>\n"
     ]
    }
   ],
   "source": [
    "t1 = (1, 2, 3)\n",
    "t2 = ('apple', 'banana')\n",
    "t3 = t1 + t2 # t3는 t1, t2를 바꾸는것이 아니라 없던 새로운 객체를 사용하는 것이기 때문에 연산이 가능하다.\n",
    "\n",
    "print(t3) # t3는 t1과 t2의 요소를 합한 튜플 목록을 출력한다.\n",
    "print(type(t3))\n",
    "\n",
    "#t3 = t1.__add__(t) ## __ : 클래스에 내장된 멤버나 함수를 호출.\n",
    "#print(t3)"
   ]
  },
  {
   "cell_type": "markdown",
   "metadata": {},
   "source": [
    "## tuple : *, 데이터를 반복"
   ]
  },
  {
   "cell_type": "code",
   "execution_count": 87,
   "metadata": {},
   "outputs": [
    {
     "name": "stdout",
     "output_type": "stream",
     "text": [
      "(1, 2, 3, 'apple', 'banana', 1, 2, 3, 'apple', 'banana', 1, 2, 3, 'apple', 'banana')\n"
     ]
    }
   ],
   "source": [
    "t4 = t3 * 3\n",
    "print(t4)"
   ]
  },
  {
   "cell_type": "markdown",
   "metadata": {},
   "source": [
    "## tuple : len(), 데이터 크기 계산"
   ]
  },
  {
   "cell_type": "code",
   "execution_count": 88,
   "metadata": {},
   "outputs": [
    {
     "data": {
      "text/plain": [
       "15"
      ]
     },
     "execution_count": 88,
     "metadata": {},
     "output_type": "execute_result"
    }
   ],
   "source": [
    "# len()\n",
    "len(t4)"
   ]
  },
  {
   "cell_type": "markdown",
   "metadata": {},
   "source": [
    "## tuple : in() : 데이터 존재 유 / 무 확인"
   ]
  },
  {
   "cell_type": "code",
   "execution_count": 89,
   "metadata": {},
   "outputs": [
    {
     "name": "stdout",
     "output_type": "stream",
     "text": [
      "True\n"
     ]
    },
    {
     "data": {
      "text/plain": [
       "6"
      ]
     },
     "execution_count": 89,
     "metadata": {},
     "output_type": "execute_result"
    }
   ],
   "source": [
    "print(1 in t4)  # in : 데이터안에 1이 있는가?\n",
    "sum(t1)"
   ]
  },
  {
   "cell_type": "markdown",
   "metadata": {},
   "source": [
    "## tuple : count(), 데이터의 갯수 계산"
   ]
  },
  {
   "cell_type": "code",
   "execution_count": 101,
   "metadata": {},
   "outputs": [
    {
     "name": "stdout",
     "output_type": "stream",
     "text": [
      "3\n"
     ]
    }
   ],
   "source": [
    "t = (1, 2, 3, 2, 2, 3)\n",
    "print(t.count(2)) # 2의 값을 갖는 요소의 갯수"
   ]
  },
  {
   "cell_type": "code",
   "execution_count": 125,
   "metadata": {},
   "outputs": [
    {
     "name": "stdout",
     "output_type": "stream",
     "text": [
      "1\n",
      "4\n",
      "3\n"
     ]
    }
   ],
   "source": [
    "t = (1, 2, 3, 2, 2, 3)\n",
    "print(t.index(2))\n",
    "print(t.index(2, 4)) # 인덱스 4번지 이상에 있는 2의 값의 인덱스 번지를 찾는다. # 즉, 2의 값을 가지는 인덱스가, 4이상의 번지에 있는 2의 인덱스 번지를 출력한다.\n",
    "print(t.index(2, 2)) # 인덱스 2번지 이상에 있는 2의 값의 인덱스 번지를 찾는다. # 즉, 2의 값을 가지는 인덱스가, 2번지 이상에 있는 2의 인덱스 번지를 출력한다."
   ]
  },
  {
   "cell_type": "code",
   "execution_count": null,
   "metadata": {},
   "outputs": [],
   "source": [
    "-------------------------------------------------------------------------------------------------------------------------"
   ]
  },
  {
   "cell_type": "markdown",
   "metadata": {},
   "source": [
    "## 두 개의 값을 서로 변경하는 코드 구현, x : 1, y : 2"
   ]
  },
  {
   "cell_type": "code",
   "execution_count": 116,
   "metadata": {
    "scrolled": true
   },
   "outputs": [
    {
     "name": "stdout",
     "output_type": "stream",
     "text": [
      "2 1\n",
      "2 1\n"
     ]
    }
   ],
   "source": [
    "# 1, 전통 언어 방식\n",
    "x = 1\n",
    "y = 2\n",
    "\n",
    "temp = x\n",
    "x = y\n",
    "y = temp\n",
    "\n",
    "print(x, y)\n",
    "\n",
    "\n",
    "# 2. 파이썬 튜플 사용 방식\n",
    "\n",
    "x, y = 1, 2\n",
    "x, y = y , x\n",
    "\n",
    "print(x, y)"
   ]
  },
  {
   "cell_type": "code",
   "execution_count": null,
   "metadata": {},
   "outputs": [],
   "source": [
    "-------------------------------------------------------------------------------------------------------------------------"
   ]
  },
  {
   "cell_type": "markdown",
   "metadata": {},
   "source": [
    "## NamedTupple : 이름있는 튜플"
   ]
  },
  {
   "cell_type": "code",
   "execution_count": 130,
   "metadata": {},
   "outputs": [
    {
     "name": "stdout",
     "output_type": "stream",
     "text": [
      "point\n",
      "1.0 5.0\n",
      "2 3\n",
      "Hello Good-Bye\n"
     ]
    }
   ],
   "source": [
    "# named tuple의 장점 : 튜플을 숫자 인덱스가 아닌 이름으로 접근가능하다.\n",
    "\n",
    "from collections import namedtuple\n",
    "\n",
    "Point = namedtuple('point', 'x,y') # named tuple 클래스의 객체를 생성\n",
    "print(Point.__name__) # point\n",
    "\n",
    "pt1 = Point(1.0, 5.0)\n",
    "print(pt1.x, pt1.y)\n",
    "\n",
    "pt2 = Point(2, 3)\n",
    "print(pt2.x, pt2.y)\n",
    "\n",
    "pt3 = Point('Hello', 'Good-Bye')\n",
    "string = pt3.x + pt3.y\n",
    "print(string)"
   ]
  },
  {
   "cell_type": "code",
   "execution_count": 131,
   "metadata": {},
   "outputs": [
    {
     "name": "stdout",
     "output_type": "stream",
     "text": [
      "1.0 5.0\n"
     ]
    }
   ],
   "source": [
    "pt1 = Point(1.0, 5.0)\n",
    "\n",
    "print(pt1[0], pt1[1]) # 인덱싱(indexing)을 이용해서 접근도 가능하다."
   ]
  },
  {
   "cell_type": "code",
   "execution_count": null,
   "metadata": {},
   "outputs": [],
   "source": [
    "-------------------------------------------------------------------------------------------------------------------------"
   ]
  },
  {
   "cell_type": "markdown",
   "metadata": {},
   "source": [
    "## [튜플 실습 과제]"
   ]
  },
  {
   "cell_type": "code",
   "execution_count": 152,
   "metadata": {},
   "outputs": [
    {
     "name": "stdout",
     "output_type": "stream",
     "text": [
      "a1 a2 a3 a4\n",
      "('a1', 'a2', 'a3', 'a4', 'b1', 'b2', 'b3', 'b4')\n",
      "a3\n",
      "('b2', 'b3')\n",
      "('a1', 'a2', 'a3')\n",
      "('a1', 'a2', 'a3')\n"
     ]
    },
    {
     "ename": "TypeError",
     "evalue": "'tuple' object doesn't support item deletion",
     "output_type": "error",
     "traceback": [
      "\u001b[1;31m---------------------------------------------------------------------------\u001b[0m",
      "\u001b[1;31mTypeError\u001b[0m                                 Traceback (most recent call last)",
      "\u001b[1;32m<ipython-input-152-71669306a328>\u001b[0m in \u001b[0;36m<module>\u001b[1;34m\u001b[0m\n\u001b[0;32m     41\u001b[0m \u001b[1;31m# → 오류 발생\u001b[0m\u001b[1;33m\u001b[0m\u001b[1;33m\u001b[0m\u001b[1;33m\u001b[0m\u001b[0m\n\u001b[0;32m     42\u001b[0m \u001b[1;33m\u001b[0m\u001b[0m\n\u001b[1;32m---> 43\u001b[1;33m \u001b[1;32mdel\u001b[0m\u001b[1;33m(\u001b[0m\u001b[0mc\u001b[0m\u001b[1;33m[\u001b[0m\u001b[1;36m3\u001b[0m\u001b[1;33m]\u001b[0m\u001b[1;33m)\u001b[0m \u001b[1;31m# 튜플은 값을 수정하거나 삭제할 수 없기 때문에 삭제 불가, 오류 발생, 전체는 삭제 가능하나 요소 하나 하나를 삭제할 수는 없다!\u001b[0m\u001b[1;33m\u001b[0m\u001b[1;33m\u001b[0m\u001b[0m\n\u001b[0m\u001b[0;32m     44\u001b[0m \u001b[1;33m\u001b[0m\u001b[0m\n\u001b[0;32m     45\u001b[0m \u001b[1;33m\u001b[0m\u001b[0m\n",
      "\u001b[1;31mTypeError\u001b[0m: 'tuple' object doesn't support item deletion"
     ]
    }
   ],
   "source": [
    "a = ('a1', 'a2', 'a3', 'a4')\n",
    "\n",
    "b = ('b1', 'b2', 'b3', 'b4')\n",
    "\n",
    "# (1) q, w, e, r 변수에 튜플 a의 구성요소들을 차례대로 하나씩 넣으시오. ex) q = 'a1'\n",
    "\n",
    "# q = 'a1'\n",
    "# w = 'a2'\n",
    "# e = 'a3'\n",
    "# r = 'a4'\n",
    "\n",
    "q, w, e, r = a\n",
    "\n",
    "print(q, w, e, r)\n",
    "\n",
    "\n",
    "# (2) a와 b를 더한 값을 c에 넣어보시오.\n",
    "\n",
    "c = a + b\n",
    "\n",
    "print(c)\n",
    "\n",
    "\n",
    "# (3) c의 3번째 자리의 구성요소는 무엇인가?\n",
    "\n",
    "print(c[2])\n",
    "\n",
    "\n",
    "# (4) c의 6번째 부터 끝가지의 구성요소는 무엇인가?\n",
    "\n",
    "print(c[5:-1])\n",
    "\n",
    "\n",
    "# (5) c의 처음부터 3번째의 구성요소는 무엇인가?\n",
    "\n",
    "print(c[0:3])\n",
    "# print(c[:3])\n",
    "\n",
    "\n",
    "# (6) c의 4번째 구성요소를 제거해 보시오.\n",
    "# → 오류 발생\n",
    "\n",
    "del(c[3]) # 튜플은 값을 수정하거나 삭제할 수 없기 때문에 삭제 불가, 오류 발생, 전체는 삭제 가능하나 요소 하나 하나를 삭제할 수는 없다!\n",
    "# del c[3]\n",
    "\n",
    "\n",
    "# (7) c의 5번째 구성요소의 값을 'c1'으로 수정해 보시오.\n",
    "# → 오류 발생\n",
    "\n",
    "c[4] = 'c1' # 오류 발생"
   ]
  }
 ],
 "metadata": {
  "kernelspec": {
   "display_name": "Python 3",
   "language": "python",
   "name": "python3"
  },
  "language_info": {
   "codemirror_mode": {
    "name": "ipython",
    "version": 3
   },
   "file_extension": ".py",
   "mimetype": "text/x-python",
   "name": "python",
   "nbconvert_exporter": "python",
   "pygments_lexer": "ipython3",
   "version": "3.7.4"
  }
 },
 "nbformat": 4,
 "nbformat_minor": 2
}
